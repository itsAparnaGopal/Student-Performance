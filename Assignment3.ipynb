{
  "nbformat": 4,
  "nbformat_minor": 0,
  "metadata": {
    "colab": {
      "provenance": []
    },
    "kernelspec": {
      "name": "python3",
      "display_name": "Python 3"
    },
    "language_info": {
      "name": "python"
    }
  },
  "cells": [
    {
      "cell_type": "code",
      "execution_count": 135,
      "metadata": {
        "id": "L9obdg0d5PrE"
      },
      "outputs": [],
      "source": [
        "import pandas as pd\n",
        "import numpy as np\n",
        "import matplotlib.pyplot as plt\n",
        "import seaborn as sns"
      ]
    },
    {
      "cell_type": "code",
      "source": [
        "from google.colab import files\n",
        "files.upload()"
      ],
      "metadata": {
        "colab": {
          "base_uri": "https://localhost:8080/",
          "height": 1000
        },
        "id": "y9uKh-ua5Rd_",
        "outputId": "c2b78033-11c8-4b53-fa01-f481db74b36c"
      },
      "execution_count": 136,
      "outputs": [
        {
          "output_type": "display_data",
          "data": {
            "text/plain": [
              "<IPython.core.display.HTML object>"
            ],
            "text/html": [
              "\n",
              "     <input type=\"file\" id=\"files-be37ecfd-ed1a-4b80-8257-77accc63e497\" name=\"files[]\" multiple disabled\n",
              "        style=\"border:none\" />\n",
              "     <output id=\"result-be37ecfd-ed1a-4b80-8257-77accc63e497\">\n",
              "      Upload widget is only available when the cell has been executed in the\n",
              "      current browser session. Please rerun this cell to enable.\n",
              "      </output>\n",
              "      <script>// Copyright 2017 Google LLC\n",
              "//\n",
              "// Licensed under the Apache License, Version 2.0 (the \"License\");\n",
              "// you may not use this file except in compliance with the License.\n",
              "// You may obtain a copy of the License at\n",
              "//\n",
              "//      http://www.apache.org/licenses/LICENSE-2.0\n",
              "//\n",
              "// Unless required by applicable law or agreed to in writing, software\n",
              "// distributed under the License is distributed on an \"AS IS\" BASIS,\n",
              "// WITHOUT WARRANTIES OR CONDITIONS OF ANY KIND, either express or implied.\n",
              "// See the License for the specific language governing permissions and\n",
              "// limitations under the License.\n",
              "\n",
              "/**\n",
              " * @fileoverview Helpers for google.colab Python module.\n",
              " */\n",
              "(function(scope) {\n",
              "function span(text, styleAttributes = {}) {\n",
              "  const element = document.createElement('span');\n",
              "  element.textContent = text;\n",
              "  for (const key of Object.keys(styleAttributes)) {\n",
              "    element.style[key] = styleAttributes[key];\n",
              "  }\n",
              "  return element;\n",
              "}\n",
              "\n",
              "// Max number of bytes which will be uploaded at a time.\n",
              "const MAX_PAYLOAD_SIZE = 100 * 1024;\n",
              "\n",
              "function _uploadFiles(inputId, outputId) {\n",
              "  const steps = uploadFilesStep(inputId, outputId);\n",
              "  const outputElement = document.getElementById(outputId);\n",
              "  // Cache steps on the outputElement to make it available for the next call\n",
              "  // to uploadFilesContinue from Python.\n",
              "  outputElement.steps = steps;\n",
              "\n",
              "  return _uploadFilesContinue(outputId);\n",
              "}\n",
              "\n",
              "// This is roughly an async generator (not supported in the browser yet),\n",
              "// where there are multiple asynchronous steps and the Python side is going\n",
              "// to poll for completion of each step.\n",
              "// This uses a Promise to block the python side on completion of each step,\n",
              "// then passes the result of the previous step as the input to the next step.\n",
              "function _uploadFilesContinue(outputId) {\n",
              "  const outputElement = document.getElementById(outputId);\n",
              "  const steps = outputElement.steps;\n",
              "\n",
              "  const next = steps.next(outputElement.lastPromiseValue);\n",
              "  return Promise.resolve(next.value.promise).then((value) => {\n",
              "    // Cache the last promise value to make it available to the next\n",
              "    // step of the generator.\n",
              "    outputElement.lastPromiseValue = value;\n",
              "    return next.value.response;\n",
              "  });\n",
              "}\n",
              "\n",
              "/**\n",
              " * Generator function which is called between each async step of the upload\n",
              " * process.\n",
              " * @param {string} inputId Element ID of the input file picker element.\n",
              " * @param {string} outputId Element ID of the output display.\n",
              " * @return {!Iterable<!Object>} Iterable of next steps.\n",
              " */\n",
              "function* uploadFilesStep(inputId, outputId) {\n",
              "  const inputElement = document.getElementById(inputId);\n",
              "  inputElement.disabled = false;\n",
              "\n",
              "  const outputElement = document.getElementById(outputId);\n",
              "  outputElement.innerHTML = '';\n",
              "\n",
              "  const pickedPromise = new Promise((resolve) => {\n",
              "    inputElement.addEventListener('change', (e) => {\n",
              "      resolve(e.target.files);\n",
              "    });\n",
              "  });\n",
              "\n",
              "  const cancel = document.createElement('button');\n",
              "  inputElement.parentElement.appendChild(cancel);\n",
              "  cancel.textContent = 'Cancel upload';\n",
              "  const cancelPromise = new Promise((resolve) => {\n",
              "    cancel.onclick = () => {\n",
              "      resolve(null);\n",
              "    };\n",
              "  });\n",
              "\n",
              "  // Wait for the user to pick the files.\n",
              "  const files = yield {\n",
              "    promise: Promise.race([pickedPromise, cancelPromise]),\n",
              "    response: {\n",
              "      action: 'starting',\n",
              "    }\n",
              "  };\n",
              "\n",
              "  cancel.remove();\n",
              "\n",
              "  // Disable the input element since further picks are not allowed.\n",
              "  inputElement.disabled = true;\n",
              "\n",
              "  if (!files) {\n",
              "    return {\n",
              "      response: {\n",
              "        action: 'complete',\n",
              "      }\n",
              "    };\n",
              "  }\n",
              "\n",
              "  for (const file of files) {\n",
              "    const li = document.createElement('li');\n",
              "    li.append(span(file.name, {fontWeight: 'bold'}));\n",
              "    li.append(span(\n",
              "        `(${file.type || 'n/a'}) - ${file.size} bytes, ` +\n",
              "        `last modified: ${\n",
              "            file.lastModifiedDate ? file.lastModifiedDate.toLocaleDateString() :\n",
              "                                    'n/a'} - `));\n",
              "    const percent = span('0% done');\n",
              "    li.appendChild(percent);\n",
              "\n",
              "    outputElement.appendChild(li);\n",
              "\n",
              "    const fileDataPromise = new Promise((resolve) => {\n",
              "      const reader = new FileReader();\n",
              "      reader.onload = (e) => {\n",
              "        resolve(e.target.result);\n",
              "      };\n",
              "      reader.readAsArrayBuffer(file);\n",
              "    });\n",
              "    // Wait for the data to be ready.\n",
              "    let fileData = yield {\n",
              "      promise: fileDataPromise,\n",
              "      response: {\n",
              "        action: 'continue',\n",
              "      }\n",
              "    };\n",
              "\n",
              "    // Use a chunked sending to avoid message size limits. See b/62115660.\n",
              "    let position = 0;\n",
              "    do {\n",
              "      const length = Math.min(fileData.byteLength - position, MAX_PAYLOAD_SIZE);\n",
              "      const chunk = new Uint8Array(fileData, position, length);\n",
              "      position += length;\n",
              "\n",
              "      const base64 = btoa(String.fromCharCode.apply(null, chunk));\n",
              "      yield {\n",
              "        response: {\n",
              "          action: 'append',\n",
              "          file: file.name,\n",
              "          data: base64,\n",
              "        },\n",
              "      };\n",
              "\n",
              "      let percentDone = fileData.byteLength === 0 ?\n",
              "          100 :\n",
              "          Math.round((position / fileData.byteLength) * 100);\n",
              "      percent.textContent = `${percentDone}% done`;\n",
              "\n",
              "    } while (position < fileData.byteLength);\n",
              "  }\n",
              "\n",
              "  // All done.\n",
              "  yield {\n",
              "    response: {\n",
              "      action: 'complete',\n",
              "    }\n",
              "  };\n",
              "}\n",
              "\n",
              "scope.google = scope.google || {};\n",
              "scope.google.colab = scope.google.colab || {};\n",
              "scope.google.colab._files = {\n",
              "  _uploadFiles,\n",
              "  _uploadFilesContinue,\n",
              "};\n",
              "})(self);\n",
              "</script> "
            ]
          },
          "metadata": {}
        },
        {
          "output_type": "stream",
          "name": "stdout",
          "text": [
            "Saving StudentsPerformance.csv to StudentsPerformance (2).csv\n"
          ]
        },
        {
          "output_type": "execute_result",
          "data": {
            "text/plain": [
              "{'StudentsPerformance.csv': b\"gender,race/ethnicity,parental level of education,lunch,test preparation course,math score,reading score,writing score\\r\\nfemale,group C,some high school,free/reduced,none,0,17,10\\r\\nfemale,group B,high school,free/reduced,none,8,24,23\\r\\nfemale,group B,some high school,free/reduced,none,18,32,28\\r\\nfemale,group B,some college,standard,none,11,38,32\\r\\nfemale,group C,some college,free/reduced,none,22,39,33\\r\\nfemale,group B,high school,free/reduced,completed,23,44,36\\r\\nfemale,group B,some high school,free/reduced,none,24,38,27\\r\\nfemale,group D,associate's degree,free/reduced,none,26,31,38\\r\\nfemale,group D,some high school,free/reduced,none,19,34,32\\r\\nfemale,group C,high school,standard,none,29,29,30\\r\\nfemale,group C,some high school,free/reduced,completed,29,40,44\\r\\nfemale,group D,bachelor's degree,free/reduced,none,29,41,47\\r\\nfemale,group B,some high school,standard,completed,32,51,44\\r\\nfemale,group C,some college,free/reduced,none,32,39,33\\r\\nfemale,group E,some high school,free/reduced,none,32,34,38\\r\\nfemale,group C,high school,free/reduced,none,33,41,43\\r\\nfemale,group A,high school,free/reduced,completed,34,48,41\\r\\nfemale,group C,high school,free/reduced,none,34,42,39\\r\\nfemale,group C,high school,free/reduced,none,26,61,54\\r\\nfemale,group C,some college,free/reduced,none,25,44,43\\r\\nfemale,group C,high school,free/reduced,none,22,53,46\\r\\nfemale,group D,some high school,free/reduced,completed,35,55,60\\r\\nfemale,group C,high school,free/reduced,none,36,53,43\\r\\nfemale,group A,associate's degree,free/reduced,none,37,57,56\\r\\nfemale,group B,some high school,standard,none,37,46,46\\r\\nfemale,group E,bachelor's degree,standard,none,37,45,38\\r\\nfemale,group A,some high school,free/reduced,none,38,43,43\\r\\nfemale,group B,high school,free/reduced,none,38,60,50\\r\\nfemale,group E,some high school,free/reduced,none,38,49,45\\r\\nfemale,group C,associate's degree,standard,none,39,64,57\\r\\nfemale,group D,high school,free/reduced,none,39,52,46\\r\\nfemale,group B,associate's degree,standard,none,40,48,50\\r\\nfemale,group C,master's degree,free/reduced,none,40,58,54\\r\\nfemale,group C,associate's degree,standard,none,40,59,51\\r\\nfemale,group D,master's degree,free/reduced,none,40,59,54\\r\\nfemale,group D,some high school,free/reduced,completed,32,65,64\\r\\nfemale,group A,associate's degree,free/reduced,none,41,51,48\\r\\nfemale,group B,some high school,standard,none,41,55,51\\r\\nfemale,group C,high school,free/reduced,none,33,46,43\\r\\nfemale,group E,high school,free/reduced,none,41,45,40\\r\\nfemale,group B,high school,standard,none,24,52,51\\r\\nfemale,group C,high school,free/reduced,none,42,62,60\\r\\nfemale,group C,some college,free/reduced,completed,34,66,69\\r\\nfemale,group D,associate's degree,free/reduced,completed,42,61,58\\r\\nfemale,group E,some college,free/reduced,completed,42,55,54\\r\\nfemale,group C,bachelor's degree,free/reduced,completed,43,51,54\\r\\nfemale,group C,some high school,free/reduced,none,43,53,53\\r\\nfemale,group C,bachelor's degree,free/reduced,none,31,62,61\\r\\nfemale,group D,associate's degree,free/reduced,none,43,60,58\\r\\nfemale,group A,some high school,free/reduced,none,44,64,58\\r\\nfemale,group A,some high school,free/reduced,none,44,45,45\\r\\nfemale,group C,some high school,free/reduced,none,13,41,51\\r\\nfemale,group C,bachelor's degree,free/reduced,none,44,63,62\\r\\nfemale,group C,some high school,standard,completed,44,51,55\\r\\nfemale,group C,high school,standard,none,44,61,52\\r\\nfemale,group A,bachelor's degree,standard,none,45,59,64\\r\\nfemale,group B,some college,free/reduced,none,45,53,55\\r\\nfemale,group C,some college,free/reduced,completed,45,73,70\\r\\nfemale,group D,high school,standard,none,45,63,59\\r\\nfemale,group E,master's degree,free/reduced,none,45,56,54\\r\\nfemale,group B,high school,free/reduced,completed,46,54,58\\r\\nfemale,group B,associate's degree,free/reduced,none,46,61,55\\r\\nfemale,group C,some college,free/reduced,none,46,64,66\\r\\nfemale,group C,associate's degree,standard,none,46,58,57\\r\\nfemale,group D,associate's degree,free/reduced,none,46,56,57\\r\\nfemale,group A,some high school,free/reduced,none,47,59,50\\r\\nfemale,group B,associate's degree,standard,none,47,49,50\\r\\nfemale,group C,some high school,standard,none,47,54,53\\r\\nfemale,group C,bachelor's degree,free/reduced,completed,47,62,66\\r\\nfemale,group D,associate's degree,free/reduced,none,47,53,58\\r\\nfemale,group D,master's degree,free/reduced,completed,47,58,67\\r\\nfemale,group A,some high school,standard,none,48,66,65\\r\\nfemale,group B,some college,free/reduced,completed,48,56,58\\r\\nfemale,group B,high school,standard,none,48,62,60\\r\\nfemale,group C,some high school,free/reduced,none,48,58,52\\r\\nfemale,group C,some high school,free/reduced,none,48,56,51\\r\\nfemale,group D,some high school,standard,none,48,58,54\\r\\nfemale,group D,some high school,free/reduced,none,48,54,53\\r\\nfemale,group A,some college,free/reduced,none,49,65,55\\r\\nfemale,group B,associate's degree,standard,none,49,52,54\\r\\nfemale,group B,some high school,free/reduced,none,49,58,55\\r\\nfemale,group C,associate's degree,standard,none,49,53,53\\r\\nfemale,group C,some high school,standard,none,49,63,56\\r\\nfemale,group D,high school,free/reduced,none,49,57,52\\r\\nfemale,group D,some college,free/reduced,none,49,58,60\\r\\nfemale,group D,some college,free/reduced,none,49,65,61\\r\\nfemale,group A,master's degree,standard,none,50,53,58\\r\\nfemale,group A,master's degree,free/reduced,none,50,67,73\\r\\nfemale,group B,high school,free/reduced,none,50,67,63\\r\\nfemale,group B,high school,standard,none,50,53,55\\r\\nfemale,group B,some college,standard,completed,50,64,66\\r\\nfemale,group C,high school,free/reduced,completed,50,66,64\\r\\nfemale,group C,some high school,free/reduced,completed,50,60,60\\r\\nfemale,group C,bachelor's degree,free/reduced,none,50,60,59\\r\\nfemale,group D,some high school,free/reduced,none,50,64,59\\r\\nfemale,group E,associate's degree,free/reduced,none,50,56,54\\r\\nfemale,group E,high school,standard,none,50,50,47\\r\\nfemale,group A,bachelor's degree,standard,none,51,49,51\\r\\nfemale,group C,bachelor's degree,free/reduced,completed,51,72,79\\r\\nfemale,group D,some college,standard,none,51,58,54\\r\\nfemale,group D,some high school,standard,none,51,63,61\\r\\nfemale,group D,high school,standard,none,51,66,62\\r\\nfemale,group E,associate's degree,standard,none,51,51,54\\r\\nfemale,group B,associate's degree,free/reduced,none,52,76,70\\r\\nfemale,group B,master's degree,free/reduced,completed,52,70,62\\r\\nfemale,group B,associate's degree,standard,completed,52,66,73\\r\\nfemale,group B,bachelor's degree,standard,none,52,65,69\\r\\nfemale,group B,some high school,free/reduced,completed,52,67,72\\r\\nfemale,group C,some college,standard,none,52,58,58\\r\\nfemale,group C,associate's degree,standard,completed,52,59,62\\r\\nfemale,group C,master's degree,free/reduced,none,52,65,61\\r\\nfemale,group C,associate's degree,standard,none,52,55,57\\r\\nfemale,group C,bachelor's degree,standard,completed,52,61,66\\r\\nfemale,group D,high school,free/reduced,completed,52,57,56\\r\\nfemale,group D,associate's degree,free/reduced,none,52,59,56\\r\\nfemale,group D,some college,free/reduced,completed,52,59,65\\r\\nfemale,group A,high school,free/reduced,completed,53,50,60\\r\\nfemale,group B,associate's degree,standard,none,53,58,65\\r\\nfemale,group B,associate's degree,free/reduced,none,53,71,67\\r\\nfemale,group B,associate's degree,free/reduced,none,53,70,70\\r\\nfemale,group B,some college,free/reduced,completed,53,66,73\\r\\nfemale,group C,associate's degree,free/reduced,none,53,61,62\\r\\nfemale,group C,some college,standard,none,53,62,56\\r\\nfemale,group C,high school,free/reduced,none,53,72,64\\r\\nfemale,group C,associate's degree,standard,none,53,62,53\\r\\nfemale,group D,master's degree,standard,none,53,61,68\\r\\nfemale,group E,some college,free/reduced,none,53,58,57\\r\\nfemale,group A,some college,standard,none,54,63,67\\r\\nfemale,group B,high school,standard,none,54,64,68\\r\\nfemale,group B,some high school,standard,completed,54,61,62\\r\\nfemale,group B,associate's degree,free/reduced,none,54,65,65\\r\\nfemale,group C,associate's degree,free/reduced,none,54,58,61\\r\\nfemale,group C,high school,standard,none,54,59,62\\r\\nfemale,group C,some college,standard,none,54,48,52\\r\\nfemale,group C,some college,standard,none,54,64,65\\r\\nfemale,group C,master's degree,standard,completed,54,64,67\\r\\nfemale,group C,associate's degree,standard,none,54,61,58\\r\\nfemale,group D,master's degree,standard,none,54,60,63\\r\\nfemale,group A,associate's degree,standard,completed,55,65,62\\r\\nfemale,group A,high school,standard,none,55,73,73\\r\\nfemale,group C,some college,standard,none,55,69,65\\r\\nfemale,group C,some high school,free/reduced,none,55,65,62\\r\\nfemale,group C,associate's degree,standard,completed,55,72,79\\r\\nfemale,group D,master's degree,standard,none,55,64,70\\r\\nfemale,group D,some college,free/reduced,none,55,71,69\\r\\nfemale,group D,associate's degree,free/reduced,none,55,76,76\\r\\nfemale,group A,some college,standard,none,56,58,64\\r\\nfemale,group C,bachelor's degree,standard,completed,56,79,72\\r\\nfemale,group C,associate's degree,free/reduced,completed,56,68,70\\r\\nfemale,group D,high school,standard,completed,56,68,74\\r\\nfemale,group D,high school,standard,none,56,52,55\\r\\nfemale,group D,associate's degree,free/reduced,none,56,65,63\\r\\nfemale,group E,master's degree,free/reduced,none,56,72,65\\r\\nfemale,group B,associate's degree,standard,none,57,69,68\\r\\nfemale,group B,some high school,standard,none,57,67,72\\r\\nfemale,group C,associate's degree,free/reduced,none,57,78,67\\r\\nfemale,group C,associate's degree,standard,completed,57,77,80\\r\\nfemale,group D,associate's degree,free/reduced,completed,57,74,76\\r\\nfemale,group D,high school,standard,completed,57,58,64\\r\\nfemale,group D,associate's degree,standard,completed,57,78,79\\r\\nfemale,group E,associate's degree,free/reduced,completed,57,68,73\\r\\nfemale,group E,high school,free/reduced,none,57,58,57\\r\\nfemale,group E,high school,free/reduced,completed,57,75,73\\r\\nfemale,group A,some college,standard,none,58,70,67\\r\\nfemale,group B,master's degree,free/reduced,completed,58,76,78\\r\\nfemale,group B,some college,free/reduced,none,58,61,66\\r\\nfemale,group B,high school,standard,completed,58,70,68\\r\\nfemale,group B,high school,standard,none,58,62,59\\r\\nfemale,group B,associate's degree,standard,none,58,63,65\\r\\nfemale,group B,high school,standard,none,58,68,61\\r\\nfemale,group C,associate's degree,standard,none,58,73,68\\r\\nfemale,group C,some college,standard,none,58,67,72\\r\\nfemale,group C,some college,standard,none,58,59,66\\r\\nfemale,group C,high school,standard,completed,58,75,77\\r\\nfemale,group D,some college,free/reduced,completed,58,63,73\\r\\nfemale,group D,some college,free/reduced,none,58,67,62\\r\\nfemale,group A,some high school,standard,completed,59,85,80\\r\\nfemale,group A,some high school,free/reduced,none,59,73,69\\r\\nfemale,group A,bachelor's degree,standard,none,59,72,70\\r\\nfemale,group B,associate's degree,standard,completed,59,70,66\\r\\nfemale,group B,some high school,free/reduced,completed,59,63,64\\r\\nfemale,group C,associate's degree,standard,none,59,66,67\\r\\nfemale,group C,some college,free/reduced,none,59,62,64\\r\\nfemale,group C,bachelor's degree,standard,completed,59,64,75\\r\\nfemale,group C,some college,standard,none,59,71,70\\r\\nfemale,group C,some high school,standard,completed,59,54,67\\r\\nfemale,group C,associate's degree,standard,completed,59,73,72\\r\\nfemale,group C,high school,standard,none,59,72,68\\r\\nfemale,group C,high school,free/reduced,completed,59,71,65\\r\\nfemale,group D,some high school,standard,none,59,58,59\\r\\nfemale,group D,bachelor's degree,standard,none,59,70,73\\r\\nfemale,group D,some high school,standard,none,59,67,61\\r\\nfemale,group D,some college,free/reduced,completed,59,78,76\\r\\nfemale,group D,associate's degree,standard,none,59,70,65\\r\\nfemale,group D,some high school,standard,none,59,72,80\\r\\nfemale,group E,high school,standard,completed,59,63,75\\r\\nfemale,group E,associate's degree,standard,none,59,62,69\\r\\nfemale,group B,some high school,standard,completed,60,70,70\\r\\nfemale,group B,some high school,standard,completed,60,70,74\\r\\nfemale,group B,high school,free/reduced,none,60,72,68\\r\\nfemale,group C,some college,standard,none,60,72,74\\r\\nfemale,group C,associate's degree,free/reduced,none,60,75,74\\r\\nfemale,group C,high school,standard,none,60,68,72\\r\\nfemale,group C,high school,standard,completed,60,64,74\\r\\nfemale,group D,some college,free/reduced,none,60,66,70\\r\\nfemale,group A,some college,free/reduced,none,61,60,57\\r\\nfemale,group A,high school,standard,none,61,68,63\\r\\nfemale,group B,associate's degree,standard,completed,61,86,87\\r\\nfemale,group B,some college,free/reduced,none,61,68,66\\r\\nfemale,group B,bachelor's degree,standard,none,61,72,70\\r\\nfemale,group C,high school,standard,none,61,73,63\\r\\nfemale,group C,high school,standard,none,61,72,70\\r\\nfemale,group D,some high school,standard,completed,61,74,72\\r\\nfemale,group D,master's degree,free/reduced,completed,61,71,78\\r\\nfemale,group E,some college,standard,none,61,64,62\\r\\nfemale,group E,bachelor's degree,free/reduced,none,61,58,62\\r\\nfemale,group B,some high school,standard,none,62,64,66\\r\\nfemale,group B,some college,standard,none,62,67,67\\r\\nfemale,group B,high school,standard,none,62,62,63\\r\\nfemale,group C,some college,free/reduced,none,62,67,62\\r\\nfemale,group C,associate's degree,standard,none,62,74,70\\r\\nfemale,group C,high school,free/reduced,none,62,67,64\\r\\nfemale,group C,some college,free/reduced,none,62,72,70\\r\\nfemale,group C,bachelor's degree,free/reduced,none,62,78,79\\r\\nfemale,group C,associate's degree,standard,completed,62,76,80\\r\\nfemale,group C,some college,standard,none,62,69,69\\r\\nfemale,group D,master's degree,standard,none,62,70,75\\r\\nfemale,group D,high school,standard,none,62,64,64\\r\\nfemale,group D,some college,standard,none,62,70,72\\r\\nfemale,group D,bachelor's degree,free/reduced,none,62,72,74\\r\\nfemale,group E,master's degree,standard,none,62,68,68\\r\\nfemale,group E,some college,standard,none,62,73,70\\r\\nfemale,group B,some college,standard,none,63,65,61\\r\\nfemale,group B,some high school,free/reduced,completed,63,78,79\\r\\nfemale,group C,associate's degree,standard,none,63,67,70\\r\\nfemale,group C,bachelor's degree,standard,none,63,75,81\\r\\nfemale,group C,some college,standard,completed,63,78,80\\r\\nfemale,group C,some high school,standard,none,63,73,68\\r\\nfemale,group C,high school,standard,none,63,69,74\\r\\nfemale,group C,some college,standard,none,63,74,74\\r\\nfemale,group C,some college,free/reduced,completed,63,73,71\\r\\nfemale,group D,some college,free/reduced,completed,63,80,80\\r\\nfemale,group D,bachelor's degree,free/reduced,none,63,73,78\\r\\nfemale,group D,some college,standard,none,63,64,67\\r\\nfemale,group E,some college,standard,completed,63,72,70\\r\\nfemale,group B,high school,free/reduced,none,64,73,71\\r\\nfemale,group C,associate's degree,free/reduced,none,64,73,68\\r\\nfemale,group C,some high school,free/reduced,completed,64,79,77\\r\\nfemale,group C,some college,free/reduced,completed,64,85,85\\r\\nfemale,group C,associate's degree,standard,none,64,64,70\\r\\nfemale,group C,some college,standard,completed,64,82,77\\r\\nfemale,group D,some high school,standard,completed,64,60,74\\r\\nfemale,group D,master's degree,standard,none,64,63,66\\r\\nfemale,group D,some college,free/reduced,none,64,74,75\\r\\nfemale,group D,associate's degree,standard,none,64,76,74\\r\\nfemale,group E,bachelor's degree,standard,none,64,73,70\\r\\nfemale,group E,high school,free/reduced,none,64,62,68\\r\\nfemale,group A,associate's degree,free/reduced,none,65,85,76\\r\\nfemale,group A,associate's degree,standard,completed,65,70,74\\r\\nfemale,group B,high school,standard,none,65,81,73\\r\\nfemale,group B,some college,free/reduced,completed,65,75,70\\r\\nfemale,group B,high school,standard,none,65,64,62\\r\\nfemale,group B,bachelor's degree,standard,completed,65,81,81\\r\\nfemale,group B,some high school,standard,completed,65,82,78\\r\\nfemale,group C,bachelor's degree,standard,none,65,72,74\\r\\nfemale,group C,master's degree,free/reduced,completed,65,81,81\\r\\nfemale,group C,some high school,free/reduced,none,65,86,80\\r\\nfemale,group C,some high school,standard,completed,65,74,77\\r\\nfemale,group C,associate's degree,free/reduced,none,65,77,74\\r\\nfemale,group C,associate's degree,standard,none,65,76,76\\r\\nfemale,group C,associate's degree,standard,none,65,77,74\\r\\nfemale,group C,high school,standard,none,65,69,67\\r\\nfemale,group C,associate's degree,standard,completed,65,84,84\\r\\nfemale,group C,some high school,standard,none,65,69,76\\r\\nfemale,group C,bachelor's degree,standard,none,65,79,81\\r\\nfemale,group C,some high school,free/reduced,completed,65,76,75\\r\\nfemale,group D,bachelor's degree,standard,none,65,67,62\\r\\nfemale,group D,associate's degree,standard,none,65,69,70\\r\\nfemale,group D,some college,free/reduced,none,65,81,77\\r\\nfemale,group D,some college,standard,none,65,70,71\\r\\nfemale,group D,some high school,standard,none,65,82,81\\r\\nfemale,group D,some high school,standard,completed,65,78,82\\r\\nfemale,group D,high school,free/reduced,completed,65,61,71\\r\\nfemale,group E,bachelor's degree,standard,none,65,73,75\\r\\nfemale,group E,associate's degree,standard,completed,65,75,77\\r\\nfemale,group B,some high school,standard,none,66,69,68\\r\\nfemale,group B,bachelor's degree,standard,completed,66,74,81\\r\\nfemale,group B,high school,standard,none,66,72,70\\r\\nfemale,group C,high school,standard,none,66,71,76\\r\\nfemale,group C,bachelor's degree,free/reduced,completed,66,83,83\\r\\nfemale,group C,high school,free/reduced,none,66,76,68\\r\\nfemale,group C,bachelor's degree,free/reduced,completed,66,74,81\\r\\nfemale,group C,associate's degree,standard,none,66,77,73\\r\\nfemale,group D,some high school,standard,completed,66,78,78\\r\\nfemale,group E,high school,free/reduced,completed,66,74,78\\r\\nfemale,group E,associate's degree,standard,none,66,65,69\\r\\nfemale,group E,some college,standard,completed,66,74,73\\r\\nfemale,group B,bachelor's degree,standard,none,67,86,83\\r\\nfemale,group B,some high school,standard,none,67,89,82\\r\\nfemale,group B,high school,free/reduced,completed,67,78,79\\r\\nfemale,group B,high school,free/reduced,completed,67,80,81\\r\\nfemale,group C,bachelor's degree,standard,none,67,69,75\\r\\nfemale,group C,some college,free/reduced,completed,67,75,70\\r\\nfemale,group C,associate's degree,standard,completed,67,84,86\\r\\nfemale,group C,associate's degree,standard,completed,67,84,81\\r\\nfemale,group C,high school,free/reduced,completed,67,79,84\\r\\nfemale,group C,some college,standard,completed,67,81,79\\r\\nfemale,group C,some high school,standard,completed,67,74,77\\r\\nfemale,group C,bachelor's degree,free/reduced,none,67,75,72\\r\\nfemale,group D,high school,standard,none,67,72,74\\r\\nfemale,group D,some high school,free/reduced,none,67,84,84\\r\\nfemale,group D,some college,free/reduced,completed,67,86,83\\r\\nfemale,group E,some college,standard,none,67,76,75\\r\\nfemale,group A,high school,standard,completed,68,80,76\\r\\nfemale,group B,high school,standard,completed,68,83,78\\r\\nfemale,group B,associate's degree,free/reduced,completed,68,77,80\\r\\nfemale,group C,associate's degree,free/reduced,completed,68,67,69\\r\\nfemale,group C,associate's degree,standard,completed,68,86,84\\r\\nfemale,group C,associate's degree,standard,completed,68,67,73\\r\\nfemale,group D,bachelor's degree,standard,completed,68,75,81\\r\\nfemale,group D,some high school,standard,none,68,71,75\\r\\nfemale,group D,some college,standard,completed,68,78,77\\r\\nfemale,group E,some college,standard,none,68,70,66\\r\\nfemale,group E,associate's degree,standard,none,68,76,67\\r\\nfemale,group A,some college,standard,none,69,84,82\\r\\nfemale,group B,high school,standard,completed,69,76,74\\r\\nfemale,group C,some college,standard,completed,69,90,88\\r\\nfemale,group C,some high school,standard,none,69,75,78\\r\\nfemale,group C,some high school,standard,none,69,73,73\\r\\nfemale,group C,associate's degree,standard,none,69,80,71\\r\\nfemale,group C,master's degree,standard,completed,69,84,85\\r\\nfemale,group C,some college,standard,none,69,78,76\\r\\nfemale,group D,some college,standard,none,69,74,74\\r\\nfemale,group D,high school,standard,none,69,72,77\\r\\nfemale,group D,some college,standard,none,69,77,77\\r\\nfemale,group D,high school,standard,none,69,77,73\\r\\nfemale,group D,some college,standard,completed,69,79,81\\r\\nfemale,group D,high school,standard,completed,69,77,78\\r\\nfemale,group D,some high school,free/reduced,completed,69,86,81\\r\\nfemale,group D,some college,free/reduced,none,69,65,74\\r\\nfemale,group B,some high school,standard,none,70,64,72\\r\\nfemale,group B,some college,standard,none,70,75,78\\r\\nfemale,group C,some college,standard,completed,70,89,88\\r\\nfemale,group C,some high school,standard,completed,70,82,76\\r\\nfemale,group C,some college,standard,completed,70,72,76\\r\\nfemale,group D,some college,free/reduced,completed,70,78,78\\r\\nfemale,group D,master's degree,standard,completed,70,71,74\\r\\nfemale,group E,associate's degree,free/reduced,none,70,84,81\\r\\nfemale,group A,some high school,standard,none,71,83,77\\r\\nfemale,group B,associate's degree,standard,none,71,83,78\\r\\nfemale,group B,high school,free/reduced,none,71,87,82\\r\\nfemale,group C,some high school,free/reduced,completed,71,84,87\\r\\nfemale,group C,associate's degree,standard,completed,71,77,77\\r\\nfemale,group C,some college,standard,none,71,81,80\\r\\nfemale,group C,some college,standard,completed,71,71,80\\r\\nfemale,group D,associate's degree,standard,none,71,71,74\\r\\nfemale,group D,some college,free/reduced,none,71,83,83\\r\\nfemale,group D,bachelor's degree,standard,completed,71,76,83\\r\\nfemale,group E,some college,free/reduced,none,71,76,70\\r\\nfemale,group E,some college,standard,none,71,70,76\\r\\nfemale,group E,bachelor's degree,standard,completed,71,70,70\\r\\nfemale,group A,some college,standard,completed,72,79,82\\r\\nfemale,group B,bachelor's degree,standard,none,72,72,74\\r\\nfemale,group B,some high school,free/reduced,none,72,81,79\\r\\nfemale,group C,some college,standard,none,72,72,71\\r\\nfemale,group C,high school,standard,none,72,80,75\\r\\nfemale,group C,high school,standard,none,72,80,83\\r\\nfemale,group E,some high school,free/reduced,none,72,79,77\\r\\nfemale,group B,associate's degree,standard,none,73,76,80\\r\\nfemale,group B,associate's degree,standard,none,73,83,76\\r\\nfemale,group B,some high school,standard,none,73,79,79\\r\\nfemale,group C,some college,standard,none,73,80,82\\r\\nfemale,group C,some college,standard,none,73,76,78\\r\\nfemale,group C,master's degree,standard,none,73,78,74\\r\\nfemale,group D,some high school,standard,none,73,86,82\\r\\nfemale,group D,bachelor's degree,free/reduced,none,73,79,84\\r\\nfemale,group D,some high school,standard,none,73,84,85\\r\\nfemale,group D,associate's degree,standard,completed,73,75,80\\r\\nfemale,group D,high school,free/reduced,none,73,92,84\\r\\nfemale,group E,some college,standard,completed,73,78,76\\r\\nfemale,group E,associate's degree,free/reduced,none,73,76,78\\r\\nfemale,group B,some college,free/reduced,none,74,81,76\\r\\nfemale,group B,some high school,free/reduced,completed,74,90,88\\r\\nfemale,group B,high school,standard,none,74,72,72\\r\\nfemale,group C,associate's degree,standard,completed,74,75,83\\r\\nfemale,group C,bachelor's degree,free/reduced,completed,74,86,89\\r\\nfemale,group C,some high school,standard,none,74,75,82\\r\\nfemale,group D,associate's degree,standard,none,74,81,83\\r\\nfemale,group D,master's degree,standard,none,74,79,82\\r\\nfemale,group D,some college,standard,none,74,89,84\\r\\nfemale,group D,some college,standard,completed,74,75,79\\r\\nfemale,group D,associate's degree,free/reduced,completed,74,88,90\\r\\nfemale,group E,high school,standard,none,74,81,71\\r\\nfemale,group E,high school,standard,none,74,76,73\\r\\nfemale,group E,high school,standard,completed,74,79,80\\r\\nfemale,group E,some high school,free/reduced,none,74,74,72\\r\\nfemale,group A,high school,standard,completed,75,82,79\\r\\nfemale,group B,bachelor's degree,free/reduced,none,75,85,82\\r\\nfemale,group B,bachelor's degree,standard,none,75,84,80\\r\\nfemale,group C,some college,standard,completed,75,81,84\\r\\nfemale,group C,high school,standard,none,75,88,85\\r\\nfemale,group C,associate's degree,standard,completed,75,82,90\\r\\nfemale,group D,associate's degree,free/reduced,completed,75,90,88\\r\\nfemale,group D,some college,standard,completed,75,77,83\\r\\nfemale,group E,some college,free/reduced,completed,75,88,85\\r\\nfemale,group E,high school,standard,none,75,86,79\\r\\nfemale,group B,associate's degree,free/reduced,completed,76,94,87\\r\\nfemale,group B,high school,free/reduced,completed,76,85,82\\r\\nfemale,group C,some college,free/reduced,none,76,83,88\\r\\nfemale,group C,some high school,standard,completed,76,87,85\\r\\nfemale,group C,high school,standard,none,76,76,74\\r\\nfemale,group D,some high school,standard,none,76,72,71\\r\\nfemale,group D,associate's degree,standard,none,76,74,73\\r\\nfemale,group E,some college,standard,none,76,78,80\\r\\nfemale,group A,high school,free/reduced,completed,77,88,85\\r\\nfemale,group B,master's degree,free/reduced,completed,77,97,94\\r\\nfemale,group B,bachelor's degree,free/reduced,none,77,85,87\\r\\nfemale,group B,master's degree,standard,none,77,90,84\\r\\nfemale,group B,high school,standard,completed,77,82,89\\r\\nfemale,group C,bachelor's degree,standard,none,77,88,87\\r\\nfemale,group C,bachelor's degree,standard,completed,77,94,95\\r\\nfemale,group C,some college,free/reduced,none,77,90,91\\r\\nfemale,group C,some high school,standard,completed,77,90,85\\r\\nfemale,group C,some high school,standard,none,77,91,88\\r\\nfemale,group D,associate's degree,free/reduced,completed,77,89,98\\r\\nfemale,group D,master's degree,standard,completed,77,82,91\\r\\nfemale,group D,some college,standard,none,77,68,77\\r\\nfemale,group D,associate's degree,standard,none,77,77,73\\r\\nfemale,group D,some college,free/reduced,none,77,86,86\\r\\nfemale,group E,some high school,standard,none,77,79,80\\r\\nfemale,group A,some college,standard,completed,78,87,91\\r\\nfemale,group B,bachelor's degree,free/reduced,none,78,79,76\\r\\nfemale,group D,bachelor's degree,standard,none,78,82,79\\r\\nfemale,group D,high school,standard,none,78,81,80\\r\\nfemale,group D,bachelor's degree,free/reduced,none,78,90,93\\r\\nfemale,group D,master's degree,standard,none,78,91,96\\r\\nfemale,group B,some college,standard,none,79,86,92\\r\\nfemale,group C,bachelor's degree,standard,completed,79,92,89\\r\\nfemale,group D,some college,standard,none,79,86,81\\r\\nfemale,group D,bachelor's degree,standard,none,79,89,89\\r\\nfemale,group D,some college,free/reduced,none,79,89,86\\r\\nfemale,group D,some college,standard,completed,79,84,91\\r\\nfemale,group E,associate's degree,standard,completed,79,88,94\\r\\nfemale,group E,bachelor's degree,standard,completed,79,81,82\\r\\nfemale,group B,associate's degree,standard,none,80,86,83\\r\\nfemale,group D,some college,standard,none,80,90,89\\r\\nfemale,group D,some high school,standard,none,80,90,82\\r\\nfemale,group D,some high school,standard,completed,80,92,88\\r\\nfemale,group E,bachelor's degree,standard,none,80,83,83\\r\\nfemale,group E,some high school,standard,completed,80,85,85\\r\\nfemale,group B,high school,standard,none,81,91,89\\r\\nfemale,group C,master's degree,standard,completed,81,91,87\\r\\nfemale,group C,bachelor's degree,standard,none,81,88,90\\r\\nfemale,group C,associate's degree,standard,none,81,77,79\\r\\nfemale,group C,high school,standard,none,81,84,82\\r\\nfemale,group D,some high school,standard,none,81,97,96\\r\\nfemale,group E,master's degree,standard,none,81,92,91\\r\\nfemale,group E,master's degree,free/reduced,none,81,86,87\\r\\nfemale,group A,associate's degree,standard,none,82,93,93\\r\\nfemale,group B,associate's degree,standard,none,82,80,77\\r\\nfemale,group B,some high school,standard,none,82,82,80\\r\\nfemale,group B,some college,standard,none,82,85,87\\r\\nfemale,group C,some college,standard,none,82,90,94\\r\\nfemale,group C,associate's degree,free/reduced,completed,82,93,93\\r\\nfemale,group D,some college,standard,completed,82,97,96\\r\\nfemale,group D,associate's degree,standard,none,82,95,89\\r\\nfemale,group E,associate's degree,standard,completed,82,85,86\\r\\nfemale,group C,bachelor's degree,standard,none,83,93,95\\r\\nfemale,group C,associate's degree,standard,completed,83,85,90\\r\\nfemale,group C,some college,standard,none,83,83,90\\r\\nfemale,group E,associate's degree,free/reduced,completed,83,86,88\\r\\nfemale,group C,some college,standard,none,84,87,91\\r\\nfemale,group E,associate's degree,standard,none,84,95,92\\r\\nfemale,group A,some high school,standard,completed,85,90,92\\r\\nfemale,group C,some high school,standard,completed,85,92,93\\r\\nfemale,group C,associate's degree,standard,none,85,89,95\\r\\nfemale,group C,associate's degree,standard,none,85,84,82\\r\\nfemale,group D,associate's degree,standard,none,85,91,89\\r\\nfemale,group D,master's degree,free/reduced,completed,85,95,100\\r\\nfemale,group D,some college,standard,completed,85,86,98\\r\\nfemale,group E,associate's degree,standard,none,85,92,85\\r\\nfemale,group C,bachelor's degree,standard,none,86,92,87\\r\\nfemale,group E,some college,standard,completed,86,85,91\\r\\nfemale,group B,high school,standard,none,87,95,86\\r\\nfemale,group C,some college,standard,completed,87,89,94\\r\\nfemale,group D,master's degree,standard,none,87,100,100\\r\\nfemale,group E,associate's degree,standard,none,87,94,95\\r\\nfemale,group E,some college,standard,none,87,85,93\\r\\nfemale,group B,some college,standard,completed,88,95,92\\r\\nfemale,group C,some college,standard,completed,88,93,93\\r\\nfemale,group C,some college,standard,completed,88,95,94\\r\\nfemale,group D,associate's degree,standard,completed,88,92,95\\r\\nfemale,group D,high school,standard,completed,88,99,100\\r\\nfemale,group E,master's degree,standard,completed,88,99,95\\r\\nfemale,group D,bachelor's degree,standard,none,89,100,100\\r\\nfemale,group B,master's degree,standard,none,90,95,93\\r\\nfemale,group B,associate's degree,standard,completed,90,90,91\\r\\nfemale,group C,associate's degree,standard,none,91,86,84\\r\\nfemale,group C,associate's degree,standard,none,91,95,94\\r\\nfemale,group A,some high school,standard,completed,92,100,97\\r\\nfemale,group C,bachelor's degree,standard,completed,92,100,99\\r\\nfemale,group D,master's degree,standard,none,92,100,100\\r\\nfemale,group E,bachelor's degree,free/reduced,completed,92,100,100\\r\\nfemale,group D,bachelor's degree,free/reduced,completed,93,100,100\\r\\nfemale,group E,associate's degree,standard,completed,93,100,95\\r\\nfemale,group B,associate's degree,standard,completed,94,87,92\\r\\nfemale,group E,master's degree,standard,completed,94,99,100\\r\\nfemale,group E,associate's degree,standard,completed,95,89,92\\r\\nfemale,group C,bachelor's degree,standard,completed,96,100,100\\r\\nfemale,group C,associate's degree,standard,completed,96,96,99\\r\\nfemale,group B,bachelor's degree,standard,none,97,97,96\\r\\nfemale,group D,some high school,standard,completed,97,100,100\\r\\nfemale,group D,some college,standard,none,98,100,99\\r\\nfemale,group E,bachelor's degree,standard,completed,99,100,100\\r\\nfemale,group E,high school,standard,none,99,93,90\\r\\nfemale,group E,some college,standard,none,100,92,97\\r\\nfemale,group E,bachelor's degree,standard,none,100,100,100\\r\\nfemale,group E,associate's degree,standard,none,100,100,100\\r\\nmale,group C,high school,free/reduced,none,27,34,36\\r\\nmale,group A,some college,free/reduced,none,28,23,19\\r\\nmale,group B,high school,free/reduced,none,30,24,15\\r\\nmale,group E,some high school,standard,none,30,26,22\\r\\nmale,group B,some college,free/reduced,none,31,32,34\\r\\nmale,group B,some college,free/reduced,none,32,34,39\\r\\nmale,group C,some college,free/reduced,none,35,28,27\\r\\nmale,group D,high school,free/reduced,none,35,34,36\\r\\nmale,group B,high school,free/reduced,none,36,29,27\\r\\nmale,group C,bachelor's degree,free/reduced,none,37,56,47\\r\\nmale,group B,some high school,free/reduced,none,38,42,45\\r\\nmale,group A,some high school,free/reduced,none,39,39,34\\r\\nmale,group D,bachelor's degree,free/reduced,completed,39,42,38\\r\\nmale,group A,associate's degree,free/reduced,completed,40,55,53\\r\\nmale,group C,high school,free/reduced,completed,40,46,50\\r\\nmale,group D,associate's degree,standard,none,40,52,43\\r\\nmale,group D,some college,standard,none,40,42,38\\r\\nmale,group D,high school,standard,none,41,52,51\\r\\nmale,group D,high school,free/reduced,none,42,39,34\\r\\nmale,group B,some high school,standard,completed,43,41,41\\r\\nmale,group C,associate's degree,free/reduced,completed,43,45,50\\r\\nmale,group B,associate's degree,free/reduced,none,44,41,38\\r\\nmale,group D,some college,standard,none,44,54,53\\r\\nmale,group D,high school,free/reduced,none,44,51,48\\r\\nmale,group A,high school,free/reduced,none,45,47,49\\r\\nmale,group C,some high school,free/reduced,completed,45,52,49\\r\\nmale,group D,some high school,free/reduced,none,45,37,37\\r\\nmale,group D,high school,standard,none,45,48,46\\r\\nmale,group A,some high school,standard,completed,46,41,43\\r\\nmale,group C,associate's degree,standard,none,46,43,42\\r\\nmale,group D,high school,standard,none,46,34,36\\r\\nmale,group E,associate's degree,free/reduced,none,46,43,41\\r\\nmale,group E,associate's degree,free/reduced,completed,46,43,44\\r\\nmale,group A,associate's degree,free/reduced,none,47,57,44\\r\\nmale,group A,some high school,standard,completed,47,49,49\\r\\nmale,group B,high school,standard,none,47,46,42\\r\\nmale,group B,some college,standard,none,47,43,41\\r\\nmale,group C,associate's degree,standard,none,47,37,35\\r\\nmale,group A,high school,free/reduced,none,48,45,41\\r\\nmale,group B,bachelor's degree,free/reduced,none,48,51,46\\r\\nmale,group B,associate's degree,standard,none,48,43,45\\r\\nmale,group A,bachelor's degree,free/reduced,completed,49,58,60\\r\\nmale,group B,high school,free/reduced,none,49,45,45\\r\\nmale,group B,master's degree,free/reduced,none,49,53,52\\r\\nmale,group B,some high school,free/reduced,completed,49,50,52\\r\\nmale,group C,some high school,standard,none,49,49,41\\r\\nmale,group C,associate's degree,standard,none,49,51,43\\r\\nmale,group C,associate's degree,free/reduced,none,49,51,51\\r\\nmale,group D,some college,free/reduced,none,49,57,46\\r\\nmale,group E,some college,free/reduced,completed,49,52,51\\r\\nmale,group A,some college,free/reduced,completed,50,47,54\\r\\nmale,group C,some college,free/reduced,completed,50,48,53\\r\\nmale,group C,high school,standard,none,50,48,42\\r\\nmale,group D,bachelor's degree,free/reduced,none,50,42,48\\r\\nmale,group A,some high school,standard,none,51,31,36\\r\\nmale,group C,some high school,standard,none,51,52,44\\r\\nmale,group C,associate's degree,standard,completed,51,60,58\\r\\nmale,group C,some high school,free/reduced,completed,51,56,53\\r\\nmale,group B,high school,standard,none,52,48,49\\r\\nmale,group C,high school,standard,none,52,53,49\\r\\nmale,group D,associate's degree,standard,none,52,55,49\\r\\nmale,group D,associate's degree,free/reduced,none,52,57,50\\r\\nmale,group A,some college,standard,none,53,43,43\\r\\nmale,group A,some high school,standard,none,53,54,48\\r\\nmale,group A,high school,free/reduced,none,53,58,44\\r\\nmale,group C,some college,standard,none,53,44,42\\r\\nmale,group C,some high school,free/reduced,completed,53,37,40\\r\\nmale,group C,high school,free/reduced,completed,53,51,51\\r\\nmale,group C,bachelor's degree,free/reduced,none,53,58,55\\r\\nmale,group C,high school,standard,completed,53,52,49\\r\\nmale,group C,some college,standard,none,53,39,37\\r\\nmale,group D,high school,standard,none,53,52,42\\r\\nmale,group D,associate's degree,free/reduced,none,53,54,48\\r\\nmale,group E,some college,standard,none,53,55,48\\r\\nmale,group E,associate's degree,standard,none,53,45,40\\r\\nmale,group A,associate's degree,standard,none,54,53,47\\r\\nmale,group B,some college,standard,none,54,52,51\\r\\nmale,group B,some college,free/reduced,none,54,54,45\\r\\nmale,group C,master's degree,free/reduced,none,54,59,50\\r\\nmale,group C,high school,free/reduced,none,54,72,59\\r\\nmale,group D,bachelor's degree,standard,none,54,49,47\\r\\nmale,group D,high school,standard,none,54,52,52\\r\\nmale,group A,some high school,free/reduced,none,55,46,43\\r\\nmale,group B,bachelor's degree,free/reduced,none,55,59,54\\r\\nmale,group B,some college,free/reduced,none,55,55,47\\r\\nmale,group C,associate's degree,free/reduced,none,55,61,54\\r\\nmale,group D,some high school,free/reduced,completed,55,59,59\\r\\nmale,group D,some high school,standard,none,55,47,44\\r\\nmale,group D,some college,standard,none,55,58,52\\r\\nmale,group D,bachelor's degree,free/reduced,none,55,46,44\\r\\nmale,group D,high school,standard,completed,55,41,48\\r\\nmale,group E,high school,free/reduced,none,55,56,51\\r\\nmale,group C,some high school,free/reduced,completed,56,61,60\\r\\nmale,group D,some high school,free/reduced,none,56,54,52\\r\\nmale,group A,high school,standard,none,57,43,47\\r\\nmale,group A,high school,standard,none,57,51,54\\r\\nmale,group B,associate's degree,free/reduced,none,57,56,57\\r\\nmale,group B,high school,standard,none,57,48,51\\r\\nmale,group C,associate's degree,standard,completed,57,54,56\\r\\nmale,group C,some high school,standard,none,57,61,54\\r\\nmale,group D,high school,standard,none,57,50,54\\r\\nmale,group E,high school,free/reduced,completed,57,56,54\\r\\nmale,group A,some college,free/reduced,none,58,60,57\\r\\nmale,group B,some college,standard,none,58,50,45\\r\\nmale,group C,associate's degree,standard,none,58,54,52\\r\\nmale,group C,bachelor's degree,standard,none,58,55,48\\r\\nmale,group C,some college,standard,none,58,49,42\\r\\nmale,group C,high school,free/reduced,none,58,61,52\\r\\nmale,group C,some college,free/reduced,none,58,57,54\\r\\nmale,group C,high school,free/reduced,completed,58,51,52\\r\\nmale,group C,associate's degree,free/reduced,none,58,55,53\\r\\nmale,group C,high school,standard,completed,58,52,54\\r\\nmale,group D,some college,standard,completed,58,59,58\\r\\nmale,group A,high school,standard,none,59,52,46\\r\\nmale,group B,some college,free/reduced,completed,59,65,66\\r\\nmale,group B,bachelor's degree,standard,none,59,54,51\\r\\nmale,group B,high school,standard,none,59,58,47\\r\\nmale,group C,some high school,free/reduced,completed,59,69,65\\r\\nmale,group C,some college,standard,none,59,41,42\\r\\nmale,group C,some college,standard,none,59,60,58\\r\\nmale,group C,high school,free/reduced,none,59,53,52\\r\\nmale,group D,some high school,free/reduced,none,59,42,41\\r\\nmale,group D,some college,free/reduced,none,59,62,61\\r\\nmale,group E,some college,standard,none,59,51,43\\r\\nmale,group B,high school,standard,completed,60,44,47\\r\\nmale,group B,some college,free/reduced,none,60,60,60\\r\\nmale,group B,high school,standard,none,60,68,60\\r\\nmale,group C,associate's degree,free/reduced,completed,60,51,56\\r\\nmale,group D,some high school,standard,none,60,59,54\\r\\nmale,group D,high school,free/reduced,none,60,57,51\\r\\nmale,group D,some college,standard,none,60,63,59\\r\\nmale,group A,some college,standard,completed,61,51,52\\r\\nmale,group A,some high school,free/reduced,completed,61,62,61\\r\\nmale,group B,associate's degree,free/reduced,none,61,58,56\\r\\nmale,group B,some high school,standard,completed,61,56,56\\r\\nmale,group B,associate's degree,standard,none,61,42,41\\r\\nmale,group C,some high school,free/reduced,none,61,57,56\\r\\nmale,group C,some college,standard,none,61,61,62\\r\\nmale,group C,bachelor's degree,free/reduced,none,61,66,61\\r\\nmale,group C,high school,standard,none,61,56,55\\r\\nmale,group C,master's degree,free/reduced,none,61,67,66\\r\\nmale,group C,high school,free/reduced,none,61,60,55\\r\\nmale,group D,associate's degree,standard,none,61,55,52\\r\\nmale,group D,some college,free/reduced,none,61,47,56\\r\\nmale,group D,associate's degree,standard,none,61,48,46\\r\\nmale,group D,bachelor's degree,free/reduced,completed,61,70,76\\r\\nmale,group D,associate's degree,free/reduced,completed,61,71,73\\r\\nmale,group A,associate's degree,free/reduced,none,62,61,55\\r\\nmale,group A,some high school,standard,completed,62,67,69\\r\\nmale,group A,bachelor's degree,free/reduced,none,62,72,65\\r\\nmale,group B,some college,standard,none,62,61,57\\r\\nmale,group B,bachelor's degree,free/reduced,none,62,63,56\\r\\nmale,group B,high school,standard,none,62,55,54\\r\\nmale,group C,high school,standard,none,62,55,49\\r\\nmale,group C,master's degree,free/reduced,completed,62,68,75\\r\\nmale,group C,high school,standard,none,62,67,58\\r\\nmale,group C,some high school,standard,none,62,64,55\\r\\nmale,group C,associate's degree,standard,none,62,65,58\\r\\nmale,group C,high school,free/reduced,none,62,55,55\\r\\nmale,group D,some high school,standard,none,62,67,61\\r\\nmale,group D,some high school,standard,completed,62,66,68\\r\\nmale,group D,some high school,free/reduced,none,62,49,52\\r\\nmale,group D,some college,free/reduced,none,62,57,62\\r\\nmale,group E,associate's degree,standard,completed,62,56,53\\r\\nmale,group E,associate's degree,standard,completed,62,61,58\\r\\nmale,group A,associate's degree,standard,none,63,61,61\\r\\nmale,group A,high school,standard,none,63,63,62\\r\\nmale,group B,bachelor's degree,standard,none,63,71,69\\r\\nmale,group B,some high school,standard,completed,63,67,67\\r\\nmale,group B,high school,free/reduced,none,63,48,47\\r\\nmale,group C,some high school,standard,completed,63,60,57\\r\\nmale,group C,some college,free/reduced,none,63,61,54\\r\\nmale,group C,bachelor's degree,standard,completed,63,64,66\\r\\nmale,group C,some college,standard,none,63,63,60\\r\\nmale,group D,some college,standard,completed,63,55,63\\r\\nmale,group D,high school,free/reduced,none,63,57,56\\r\\nmale,group D,bachelor's degree,free/reduced,none,63,66,67\\r\\nmale,group D,some college,free/reduced,none,63,61,60\\r\\nmale,group A,some high school,standard,none,64,50,43\\r\\nmale,group A,bachelor's degree,standard,none,64,60,58\\r\\nmale,group B,some high school,standard,completed,64,53,57\\r\\nmale,group C,associate's degree,free/reduced,none,64,66,59\\r\\nmale,group C,some high school,standard,none,64,58,51\\r\\nmale,group D,high school,free/reduced,completed,64,64,67\\r\\nmale,group D,high school,standard,none,64,54,50\\r\\nmale,group E,associate's degree,free/reduced,none,64,56,52\\r\\nmale,group A,some high school,free/reduced,none,65,59,53\\r\\nmale,group B,associate's degree,standard,none,65,54,57\\r\\nmale,group B,some high school,standard,completed,65,66,62\\r\\nmale,group B,associate's degree,standard,completed,65,65,63\\r\\nmale,group C,associate's degree,free/reduced,completed,65,67,65\\r\\nmale,group C,some college,free/reduced,none,65,58,49\\r\\nmale,group C,associate's degree,free/reduced,completed,65,73,68\\r\\nmale,group D,some college,standard,completed,65,77,74\\r\\nmale,group A,bachelor's degree,standard,none,66,64,62\\r\\nmale,group A,some high school,standard,completed,66,68,64\\r\\nmale,group B,high school,free/reduced,none,66,77,70\\r\\nmale,group B,bachelor's degree,standard,none,66,60,57\\r\\nmale,group B,some college,standard,none,66,65,60\\r\\nmale,group C,high school,free/reduced,none,66,66,59\\r\\nmale,group C,some college,standard,none,66,59,52\\r\\nmale,group D,high school,standard,none,66,69,63\\r\\nmale,group D,associate's degree,free/reduced,none,66,62,64\\r\\nmale,group D,high school,free/reduced,none,66,74,69\\r\\nmale,group E,associate's degree,standard,completed,66,63,64\\r\\nmale,group E,some college,standard,none,66,57,52\\r\\nmale,group A,associate's degree,standard,none,67,57,53\\r\\nmale,group B,some high school,standard,none,67,64,61\\r\\nmale,group B,associate's degree,free/reduced,none,67,62,60\\r\\nmale,group C,master's degree,standard,none,67,57,59\\r\\nmale,group C,some high school,standard,completed,67,73,68\\r\\nmale,group C,some college,free/reduced,completed,67,74,70\\r\\nmale,group D,bachelor's degree,standard,completed,67,61,68\\r\\nmale,group D,associate's degree,standard,completed,67,72,67\\r\\nmale,group D,some college,standard,none,67,64,70\\r\\nmale,group D,associate's degree,standard,completed,67,54,63\\r\\nmale,group A,some high school,free/reduced,none,68,72,64\\r\\nmale,group A,high school,standard,none,68,70,66\\r\\nmale,group B,some high school,standard,none,68,54,53\\r\\nmale,group C,high school,standard,none,68,60,53\\r\\nmale,group C,some high school,free/reduced,none,68,63,54\\r\\nmale,group C,some college,free/reduced,none,68,68,61\\r\\nmale,group C,associate's degree,free/reduced,none,68,65,61\\r\\nmale,group D,bachelor's degree,standard,completed,68,74,74\\r\\nmale,group D,some college,standard,none,68,59,62\\r\\nmale,group D,high school,standard,completed,68,64,66\\r\\nmale,group D,bachelor's degree,free/reduced,none,68,68,67\\r\\nmale,group E,some college,standard,none,68,60,59\\r\\nmale,group E,bachelor's degree,standard,none,68,68,64\\r\\nmale,group E,some high school,standard,completed,68,51,57\\r\\nmale,group E,some college,standard,none,68,72,65\\r\\nmale,group A,some college,standard,none,69,67,69\\r\\nmale,group B,some college,standard,none,69,54,55\\r\\nmale,group C,associate's degree,standard,none,69,77,69\\r\\nmale,group C,bachelor's degree,standard,none,69,63,61\\r\\nmale,group C,high school,standard,completed,69,58,53\\r\\nmale,group C,some high school,free/reduced,none,69,71,65\\r\\nmale,group C,some college,standard,none,69,64,68\\r\\nmale,group D,some college,free/reduced,none,69,66,60\\r\\nmale,group D,bachelor's degree,standard,none,69,58,57\\r\\nmale,group D,some college,free/reduced,completed,69,60,63\\r\\nmale,group D,some high school,standard,none,69,66,61\\r\\nmale,group D,high school,standard,none,69,75,71\\r\\nmale,group D,high school,free/reduced,none,69,70,67\\r\\nmale,group E,some college,standard,none,69,60,54\\r\\nmale,group B,high school,standard,none,70,65,60\\r\\nmale,group B,some college,free/reduced,completed,70,72,76\\r\\nmale,group C,high school,standard,none,70,70,65\\r\\nmale,group C,high school,standard,none,70,56,51\\r\\nmale,group C,high school,standard,none,70,74,71\\r\\nmale,group C,bachelor's degree,free/reduced,completed,70,75,74\\r\\nmale,group D,high school,standard,none,70,70,70\\r\\nmale,group D,some college,free/reduced,none,70,63,58\\r\\nmale,group E,high school,standard,none,70,55,56\\r\\nmale,group E,bachelor's degree,free/reduced,completed,70,68,72\\r\\nmale,group E,bachelor's degree,standard,completed,70,64,70\\r\\nmale,group A,some high school,standard,none,71,62,50\\r\\nmale,group A,high school,standard,none,71,74,64\\r\\nmale,group C,high school,standard,none,71,79,71\\r\\nmale,group C,high school,standard,none,71,66,65\\r\\nmale,group C,high school,standard,none,71,60,61\\r\\nmale,group C,bachelor's degree,standard,completed,71,74,68\\r\\nmale,group C,master's degree,standard,none,71,67,67\\r\\nmale,group D,some college,standard,completed,71,61,69\\r\\nmale,group D,associate's degree,standard,none,71,66,60\\r\\nmale,group D,some college,standard,none,71,49,52\\r\\nmale,group D,some high school,standard,completed,71,69,68\\r\\nmale,group E,associate's degree,standard,completed,71,74,68\\r\\nmale,group A,high school,standard,completed,72,73,74\\r\\nmale,group A,high school,free/reduced,completed,72,67,65\\r\\nmale,group B,some high school,standard,none,72,68,67\\r\\nmale,group B,high school,standard,completed,72,65,68\\r\\nmale,group B,some college,standard,completed,72,76,74\\r\\nmale,group C,high school,standard,completed,72,67,64\\r\\nmale,group C,master's degree,free/reduced,completed,72,66,72\\r\\nmale,group D,associate's degree,standard,none,72,79,74\\r\\nmale,group D,high school,standard,none,72,66,66\\r\\nmale,group D,some college,standard,none,72,57,58\\r\\nmale,group E,associate's degree,standard,none,72,64,63\\r\\nmale,group E,associate's degree,standard,none,72,57,62\\r\\nmale,group A,master's degree,free/reduced,none,73,74,72\\r\\nmale,group B,bachelor's degree,free/reduced,none,73,56,57\\r\\nmale,group B,high school,standard,completed,73,71,68\\r\\nmale,group B,high school,standard,completed,73,69,68\\r\\nmale,group C,associate's degree,free/reduced,none,73,68,66\\r\\nmale,group C,some high school,standard,none,73,66,66\\r\\nmale,group C,some high school,standard,none,73,66,63\\r\\nmale,group C,some college,standard,none,73,74,61\\r\\nmale,group C,associate's degree,standard,completed,73,78,72\\r\\nmale,group D,high school,free/reduced,completed,73,68,66\\r\\nmale,group D,master's degree,standard,none,73,70,75\\r\\nmale,group D,some high school,standard,none,73,66,62\\r\\nmale,group E,some high school,free/reduced,completed,73,67,59\\r\\nmale,group E,high school,standard,none,73,64,57\\r\\nmale,group B,some high school,standard,none,74,63,57\\r\\nmale,group B,associate's degree,free/reduced,completed,74,70,73\\r\\nmale,group B,some college,standard,completed,74,77,77\\r\\nmale,group B,associate's degree,free/reduced,completed,74,77,73\\r\\nmale,group B,some college,free/reduced,completed,74,77,76\\r\\nmale,group C,associate's degree,standard,none,74,73,67\\r\\nmale,group C,some college,free/reduced,none,74,77,73\\r\\nmale,group D,bachelor's degree,free/reduced,completed,74,71,80\\r\\nmale,group D,bachelor's degree,free/reduced,completed,74,79,75\\r\\nmale,group D,some high school,standard,completed,74,71,78\\r\\nmale,group D,some high school,standard,none,74,74,72\\r\\nmale,group D,high school,free/reduced,none,74,70,69\\r\\nmale,group E,some high school,standard,completed,74,64,60\\r\\nmale,group A,bachelor's degree,standard,completed,75,58,62\\r\\nmale,group A,some college,free/reduced,none,75,81,74\\r\\nmale,group B,some college,free/reduced,none,75,68,65\\r\\nmale,group C,high school,standard,completed,75,69,68\\r\\nmale,group C,some high school,standard,none,75,72,62\\r\\nmale,group C,high school,standard,none,75,81,71\\r\\nmale,group D,some high school,standard,none,75,74,69\\r\\nmale,group D,associate's degree,standard,none,75,68,64\\r\\nmale,group D,associate's degree,free/reduced,none,75,66,73\\r\\nmale,group D,bachelor's degree,standard,none,75,73,74\\r\\nmale,group B,high school,standard,completed,76,62,60\\r\\nmale,group C,some college,standard,none,76,78,75\\r\\nmale,group C,master's degree,free/reduced,completed,76,76,46\\r\\nmale,group C,associate's degree,standard,none,76,70,68\\r\\nmale,group C,some high school,standard,completed,76,80,73\\r\\nmale,group D,some college,standard,completed,76,83,79\\r\\nmale,group D,some college,standard,none,76,64,66\\r\\nmale,group D,high school,standard,none,76,73,68\\r\\nmale,group D,some high school,standard,completed,76,70,69\\r\\nmale,group D,some college,standard,none,76,71,73\\r\\nmale,group E,some college,standard,none,76,67,67\\r\\nmale,group E,bachelor's degree,standard,completed,76,62,66\\r\\nmale,group E,associate's degree,standard,none,76,71,67\\r\\nmale,group E,some college,standard,none,76,71,72\\r\\nmale,group A,bachelor's degree,standard,none,77,67,68\\r\\nmale,group C,associate's degree,free/reduced,none,77,67,64\\r\\nmale,group D,some college,standard,completed,77,62,62\\r\\nmale,group D,some college,free/reduced,none,77,62,64\\r\\nmale,group D,associate's degree,free/reduced,none,77,78,73\\r\\nmale,group D,some high school,standard,completed,77,68,69\\r\\nmale,group E,associate's degree,free/reduced,completed,77,69,68\\r\\nmale,group E,some high school,standard,completed,77,76,77\\r\\nmale,group A,some college,standard,completed,78,72,70\\r\\nmale,group B,high school,standard,completed,78,69,67\\r\\nmale,group C,associate's degree,free/reduced,completed,78,81,82\\r\\nmale,group C,associate's degree,standard,completed,78,77,77\\r\\nmale,group C,some high school,standard,completed,78,72,69\\r\\nmale,group D,high school,free/reduced,completed,78,77,80\\r\\nmale,group D,some high school,standard,completed,78,81,86\\r\\nmale,group E,some high school,free/reduced,completed,78,83,80\\r\\nmale,group E,associate's degree,free/reduced,completed,78,74,72\\r\\nmale,group A,some high school,free/reduced,none,79,82,73\\r\\nmale,group A,associate's degree,free/reduced,completed,79,82,82\\r\\nmale,group B,some college,standard,none,79,67,67\\r\\nmale,group B,high school,standard,none,79,60,65\\r\\nmale,group B,some high school,standard,completed,79,85,86\\r\\nmale,group C,some college,standard,completed,79,79,78\\r\\nmale,group C,master's degree,free/reduced,none,79,81,71\\r\\nmale,group C,master's degree,standard,none,79,78,77\\r\\nmale,group C,master's degree,standard,none,79,72,69\\r\\nmale,group C,some high school,free/reduced,none,79,76,65\\r\\nmale,group C,master's degree,free/reduced,completed,79,77,75\\r\\nmale,group D,some college,standard,none,79,73,67\\r\\nmale,group D,associate's degree,free/reduced,completed,79,82,80\\r\\nmale,group E,bachelor's degree,free/reduced,completed,79,74,72\\r\\nmale,group A,bachelor's degree,standard,completed,80,78,81\\r\\nmale,group B,associate's degree,standard,none,80,76,64\\r\\nmale,group C,some college,free/reduced,none,80,64,66\\r\\nmale,group D,some high school,free/reduced,completed,80,79,79\\r\\nmale,group D,associate's degree,standard,none,80,75,77\\r\\nmale,group D,master's degree,standard,none,80,80,72\\r\\nmale,group D,associate's degree,standard,none,80,68,72\\r\\nmale,group D,associate's degree,standard,none,80,63,63\\r\\nmale,group D,bachelor's degree,standard,none,80,73,72\\r\\nmale,group D,associate's degree,standard,none,80,75,69\\r\\nmale,group E,high school,standard,none,80,76,65\\r\\nmale,group A,some college,free/reduced,completed,81,78,81\\r\\nmale,group B,associate's degree,standard,completed,81,82,82\\r\\nmale,group B,associate's degree,standard,none,81,73,72\\r\\nmale,group C,high school,standard,none,81,66,64\\r\\nmale,group D,associate's degree,standard,completed,81,72,77\\r\\nmale,group D,associate's degree,free/reduced,none,81,75,78\\r\\nmale,group D,master's degree,standard,none,81,81,84\\r\\nmale,group D,associate's degree,standard,none,81,71,73\\r\\nmale,group D,some college,standard,none,81,82,84\\r\\nmale,group D,some high school,standard,none,81,78,78\\r\\nmale,group E,associate's degree,standard,completed,81,81,79\\r\\nmale,group E,high school,standard,completed,81,80,76\\r\\nmale,group E,some college,standard,completed,81,74,71\\r\\nmale,group E,some high school,standard,completed,81,75,76\\r\\nmale,group B,associate's degree,free/reduced,completed,82,78,74\\r\\nmale,group B,associate's degree,standard,completed,82,84,78\\r\\nmale,group B,high school,standard,none,82,82,80\\r\\nmale,group C,high school,standard,completed,82,84,82\\r\\nmale,group C,associate's degree,standard,completed,82,75,77\\r\\nmale,group D,master's degree,standard,none,82,82,74\\r\\nmale,group D,some college,standard,completed,82,82,88\\r\\nmale,group E,bachelor's degree,standard,none,82,62,62\\r\\nmale,group E,some high school,standard,none,82,67,61\\r\\nmale,group C,bachelor's degree,standard,completed,83,82,84\\r\\nmale,group C,bachelor's degree,standard,none,83,78,73\\r\\nmale,group C,associate's degree,standard,none,83,72,78\\r\\nmale,group E,some college,standard,none,83,80,73\\r\\nmale,group B,some high school,standard,completed,84,83,75\\r\\nmale,group C,high school,standard,none,84,77,74\\r\\nmale,group C,associate's degree,standard,none,84,80,80\\r\\nmale,group C,some college,standard,none,84,87,81\\r\\nmale,group D,master's degree,free/reduced,completed,84,89,90\\r\\nmale,group D,some high school,standard,none,84,84,80\\r\\nmale,group E,some college,standard,none,84,77,71\\r\\nmale,group E,some college,standard,completed,84,83,78\\r\\nmale,group E,high school,standard,none,84,73,69\\r\\nmale,group B,some high school,standard,completed,85,84,78\\r\\nmale,group C,associate's degree,standard,none,85,76,71\\r\\nmale,group D,master's degree,standard,none,85,84,89\\r\\nmale,group D,some college,standard,completed,85,81,85\\r\\nmale,group E,bachelor's degree,standard,completed,85,66,71\\r\\nmale,group E,some college,standard,completed,85,75,68\\r\\nmale,group C,bachelor's degree,standard,none,86,83,86\\r\\nmale,group C,high school,standard,completed,86,81,80\\r\\nmale,group D,some high school,standard,none,86,80,75\\r\\nmale,group D,some high school,standard,none,86,73,70\\r\\nmale,group E,some college,standard,none,86,76,74\\r\\nmale,group E,high school,free/reduced,completed,86,81,75\\r\\nmale,group A,bachelor's degree,standard,completed,87,84,87\\r\\nmale,group B,associate's degree,standard,none,87,85,73\\r\\nmale,group B,bachelor's degree,free/reduced,completed,87,90,88\\r\\nmale,group B,some college,standard,completed,87,84,86\\r\\nmale,group C,associate's degree,standard,completed,87,100,95\\r\\nmale,group C,associate's degree,free/reduced,none,87,73,72\\r\\nmale,group D,associate's degree,standard,completed,87,84,85\\r\\nmale,group E,some college,free/reduced,completed,87,74,70\\r\\nmale,group E,high school,standard,completed,87,91,81\\r\\nmale,group E,associate's degree,standard,none,87,74,76\\r\\nmale,group E,some high school,standard,completed,87,84,76\\r\\nmale,group B,some high school,standard,none,88,84,75\\r\\nmale,group B,some college,standard,completed,88,85,76\\r\\nmale,group B,bachelor's degree,free/reduced,none,88,75,76\\r\\nmale,group C,high school,standard,none,88,89,86\\r\\nmale,group D,high school,standard,none,88,78,75\\r\\nmale,group D,some college,standard,none,88,73,78\\r\\nmale,group D,bachelor's degree,standard,none,88,78,83\\r\\nmale,group D,some high school,standard,completed,88,74,75\\r\\nmale,group D,some college,standard,none,88,77,77\\r\\nmale,group D,master's degree,standard,none,89,84,82\\r\\nmale,group D,some high school,standard,completed,89,88,82\\r\\nmale,group D,high school,standard,none,89,87,79\\r\\nmale,group E,associate's degree,standard,none,89,76,74\\r\\nmale,group E,some high school,standard,completed,89,84,77\\r\\nmale,group B,associate's degree,standard,none,90,78,81\\r\\nmale,group B,some college,standard,completed,90,95,92\\r\\nmale,group C,high school,standard,none,90,75,69\\r\\nmale,group D,associate's degree,free/reduced,none,90,87,75\\r\\nmale,group D,associate's degree,standard,none,90,87,85\\r\\nmale,group E,master's degree,standard,none,90,85,84\\r\\nmale,group E,associate's degree,free/reduced,none,90,90,82\\r\\nmale,group A,bachelor's degree,standard,none,91,96,92\\r\\nmale,group B,associate's degree,standard,completed,91,89,92\\r\\nmale,group B,some college,standard,completed,91,96,91\\r\\nmale,group C,some college,standard,none,91,74,76\\r\\nmale,group C,bachelor's degree,standard,completed,91,81,79\\r\\nmale,group C,master's degree,standard,completed,91,85,85\\r\\nmale,group E,associate's degree,free/reduced,completed,91,73,80\\r\\nmale,group C,associate's degree,standard,none,92,79,84\\r\\nmale,group E,some high school,standard,none,92,87,78\\r\\nmale,group C,some college,standard,completed,93,84,90\\r\\nmale,group E,some college,free/reduced,none,93,90,83\\r\\nmale,group B,some high school,standard,completed,94,86,87\\r\\nmale,group C,bachelor's degree,standard,completed,94,90,91\\r\\nmale,group E,some high school,standard,none,94,88,78\\r\\nmale,group E,associate's degree,standard,completed,94,85,82\\r\\nmale,group E,high school,standard,none,94,73,71\\r\\nmale,group D,master's degree,standard,none,95,81,84\\r\\nmale,group C,bachelor's degree,standard,completed,96,90,92\\r\\nmale,group A,associate's degree,standard,completed,97,92,86\\r\\nmale,group C,associate's degree,standard,none,97,93,91\\r\\nmale,group E,some college,standard,none,97,87,82\\r\\nmale,group E,associate's degree,standard,completed,97,82,88\\r\\nmale,group C,some college,standard,completed,98,86,90\\r\\nmale,group C,associate's degree,standard,completed,98,87,90\\r\\nmale,group E,some college,standard,completed,99,87,81\\r\\nmale,group A,some college,standard,completed,100,96,86\\r\\nmale,group D,some college,standard,completed,100,97,99\\r\\nmale,group E,associate's degree,free/reduced,completed,100,100,93\\r\\nmale,group E,bachelor's degree,standard,completed,100,100,100\\r\\n\"}"
            ]
          },
          "metadata": {},
          "execution_count": 136
        }
      ]
    },
    {
      "cell_type": "code",
      "source": [
        "performance=pd.read_csv('StudentsPerformance.csv')"
      ],
      "metadata": {
        "id": "8kkfwM6P5UUl"
      },
      "execution_count": 140,
      "outputs": []
    },
    {
      "cell_type": "code",
      "source": [
        "performance"
      ],
      "metadata": {
        "colab": {
          "base_uri": "https://localhost:8080/",
          "height": 424
        },
        "id": "kxtY6SyL6yi4",
        "outputId": "26de4654-b565-425e-fc34-8810891b511f"
      },
      "execution_count": 141,
      "outputs": [
        {
          "output_type": "execute_result",
          "data": {
            "text/plain": [
              "     gender race/ethnicity parental level of education         lunch  \\\n",
              "0    female        group C            some high school  free/reduced   \n",
              "1    female        group B                 high school  free/reduced   \n",
              "2    female        group B            some high school  free/reduced   \n",
              "3    female        group B                some college      standard   \n",
              "4    female        group C                some college  free/reduced   \n",
              "..      ...            ...                         ...           ...   \n",
              "995    male        group E                some college      standard   \n",
              "996    male        group A                some college      standard   \n",
              "997    male        group D                some college      standard   \n",
              "998    male        group E          associate's degree  free/reduced   \n",
              "999    male        group E           bachelor's degree      standard   \n",
              "\n",
              "    test preparation course  math score  reading score  writing score  \n",
              "0                      none           0             17             10  \n",
              "1                      none           8             24             23  \n",
              "2                      none          18             32             28  \n",
              "3                      none          11             38             32  \n",
              "4                      none          22             39             33  \n",
              "..                      ...         ...            ...            ...  \n",
              "995               completed          99             87             81  \n",
              "996               completed         100             96             86  \n",
              "997               completed         100             97             99  \n",
              "998               completed         100            100             93  \n",
              "999               completed         100            100            100  \n",
              "\n",
              "[1000 rows x 8 columns]"
            ],
            "text/html": [
              "\n",
              "  <div id=\"df-fecce4bf-bf2b-44ba-8769-1553804cdb83\">\n",
              "    <div class=\"colab-df-container\">\n",
              "      <div>\n",
              "<style scoped>\n",
              "    .dataframe tbody tr th:only-of-type {\n",
              "        vertical-align: middle;\n",
              "    }\n",
              "\n",
              "    .dataframe tbody tr th {\n",
              "        vertical-align: top;\n",
              "    }\n",
              "\n",
              "    .dataframe thead th {\n",
              "        text-align: right;\n",
              "    }\n",
              "</style>\n",
              "<table border=\"1\" class=\"dataframe\">\n",
              "  <thead>\n",
              "    <tr style=\"text-align: right;\">\n",
              "      <th></th>\n",
              "      <th>gender</th>\n",
              "      <th>race/ethnicity</th>\n",
              "      <th>parental level of education</th>\n",
              "      <th>lunch</th>\n",
              "      <th>test preparation course</th>\n",
              "      <th>math score</th>\n",
              "      <th>reading score</th>\n",
              "      <th>writing score</th>\n",
              "    </tr>\n",
              "  </thead>\n",
              "  <tbody>\n",
              "    <tr>\n",
              "      <th>0</th>\n",
              "      <td>female</td>\n",
              "      <td>group C</td>\n",
              "      <td>some high school</td>\n",
              "      <td>free/reduced</td>\n",
              "      <td>none</td>\n",
              "      <td>0</td>\n",
              "      <td>17</td>\n",
              "      <td>10</td>\n",
              "    </tr>\n",
              "    <tr>\n",
              "      <th>1</th>\n",
              "      <td>female</td>\n",
              "      <td>group B</td>\n",
              "      <td>high school</td>\n",
              "      <td>free/reduced</td>\n",
              "      <td>none</td>\n",
              "      <td>8</td>\n",
              "      <td>24</td>\n",
              "      <td>23</td>\n",
              "    </tr>\n",
              "    <tr>\n",
              "      <th>2</th>\n",
              "      <td>female</td>\n",
              "      <td>group B</td>\n",
              "      <td>some high school</td>\n",
              "      <td>free/reduced</td>\n",
              "      <td>none</td>\n",
              "      <td>18</td>\n",
              "      <td>32</td>\n",
              "      <td>28</td>\n",
              "    </tr>\n",
              "    <tr>\n",
              "      <th>3</th>\n",
              "      <td>female</td>\n",
              "      <td>group B</td>\n",
              "      <td>some college</td>\n",
              "      <td>standard</td>\n",
              "      <td>none</td>\n",
              "      <td>11</td>\n",
              "      <td>38</td>\n",
              "      <td>32</td>\n",
              "    </tr>\n",
              "    <tr>\n",
              "      <th>4</th>\n",
              "      <td>female</td>\n",
              "      <td>group C</td>\n",
              "      <td>some college</td>\n",
              "      <td>free/reduced</td>\n",
              "      <td>none</td>\n",
              "      <td>22</td>\n",
              "      <td>39</td>\n",
              "      <td>33</td>\n",
              "    </tr>\n",
              "    <tr>\n",
              "      <th>...</th>\n",
              "      <td>...</td>\n",
              "      <td>...</td>\n",
              "      <td>...</td>\n",
              "      <td>...</td>\n",
              "      <td>...</td>\n",
              "      <td>...</td>\n",
              "      <td>...</td>\n",
              "      <td>...</td>\n",
              "    </tr>\n",
              "    <tr>\n",
              "      <th>995</th>\n",
              "      <td>male</td>\n",
              "      <td>group E</td>\n",
              "      <td>some college</td>\n",
              "      <td>standard</td>\n",
              "      <td>completed</td>\n",
              "      <td>99</td>\n",
              "      <td>87</td>\n",
              "      <td>81</td>\n",
              "    </tr>\n",
              "    <tr>\n",
              "      <th>996</th>\n",
              "      <td>male</td>\n",
              "      <td>group A</td>\n",
              "      <td>some college</td>\n",
              "      <td>standard</td>\n",
              "      <td>completed</td>\n",
              "      <td>100</td>\n",
              "      <td>96</td>\n",
              "      <td>86</td>\n",
              "    </tr>\n",
              "    <tr>\n",
              "      <th>997</th>\n",
              "      <td>male</td>\n",
              "      <td>group D</td>\n",
              "      <td>some college</td>\n",
              "      <td>standard</td>\n",
              "      <td>completed</td>\n",
              "      <td>100</td>\n",
              "      <td>97</td>\n",
              "      <td>99</td>\n",
              "    </tr>\n",
              "    <tr>\n",
              "      <th>998</th>\n",
              "      <td>male</td>\n",
              "      <td>group E</td>\n",
              "      <td>associate's degree</td>\n",
              "      <td>free/reduced</td>\n",
              "      <td>completed</td>\n",
              "      <td>100</td>\n",
              "      <td>100</td>\n",
              "      <td>93</td>\n",
              "    </tr>\n",
              "    <tr>\n",
              "      <th>999</th>\n",
              "      <td>male</td>\n",
              "      <td>group E</td>\n",
              "      <td>bachelor's degree</td>\n",
              "      <td>standard</td>\n",
              "      <td>completed</td>\n",
              "      <td>100</td>\n",
              "      <td>100</td>\n",
              "      <td>100</td>\n",
              "    </tr>\n",
              "  </tbody>\n",
              "</table>\n",
              "<p>1000 rows × 8 columns</p>\n",
              "</div>\n",
              "      <button class=\"colab-df-convert\" onclick=\"convertToInteractive('df-fecce4bf-bf2b-44ba-8769-1553804cdb83')\"\n",
              "              title=\"Convert this dataframe to an interactive table.\"\n",
              "              style=\"display:none;\">\n",
              "        \n",
              "  <svg xmlns=\"http://www.w3.org/2000/svg\" height=\"24px\"viewBox=\"0 0 24 24\"\n",
              "       width=\"24px\">\n",
              "    <path d=\"M0 0h24v24H0V0z\" fill=\"none\"/>\n",
              "    <path d=\"M18.56 5.44l.94 2.06.94-2.06 2.06-.94-2.06-.94-.94-2.06-.94 2.06-2.06.94zm-11 1L8.5 8.5l.94-2.06 2.06-.94-2.06-.94L8.5 2.5l-.94 2.06-2.06.94zm10 10l.94 2.06.94-2.06 2.06-.94-2.06-.94-.94-2.06-.94 2.06-2.06.94z\"/><path d=\"M17.41 7.96l-1.37-1.37c-.4-.4-.92-.59-1.43-.59-.52 0-1.04.2-1.43.59L10.3 9.45l-7.72 7.72c-.78.78-.78 2.05 0 2.83L4 21.41c.39.39.9.59 1.41.59.51 0 1.02-.2 1.41-.59l7.78-7.78 2.81-2.81c.8-.78.8-2.07 0-2.86zM5.41 20L4 18.59l7.72-7.72 1.47 1.35L5.41 20z\"/>\n",
              "  </svg>\n",
              "      </button>\n",
              "      \n",
              "  <style>\n",
              "    .colab-df-container {\n",
              "      display:flex;\n",
              "      flex-wrap:wrap;\n",
              "      gap: 12px;\n",
              "    }\n",
              "\n",
              "    .colab-df-convert {\n",
              "      background-color: #E8F0FE;\n",
              "      border: none;\n",
              "      border-radius: 50%;\n",
              "      cursor: pointer;\n",
              "      display: none;\n",
              "      fill: #1967D2;\n",
              "      height: 32px;\n",
              "      padding: 0 0 0 0;\n",
              "      width: 32px;\n",
              "    }\n",
              "\n",
              "    .colab-df-convert:hover {\n",
              "      background-color: #E2EBFA;\n",
              "      box-shadow: 0px 1px 2px rgba(60, 64, 67, 0.3), 0px 1px 3px 1px rgba(60, 64, 67, 0.15);\n",
              "      fill: #174EA6;\n",
              "    }\n",
              "\n",
              "    [theme=dark] .colab-df-convert {\n",
              "      background-color: #3B4455;\n",
              "      fill: #D2E3FC;\n",
              "    }\n",
              "\n",
              "    [theme=dark] .colab-df-convert:hover {\n",
              "      background-color: #434B5C;\n",
              "      box-shadow: 0px 1px 3px 1px rgba(0, 0, 0, 0.15);\n",
              "      filter: drop-shadow(0px 1px 2px rgba(0, 0, 0, 0.3));\n",
              "      fill: #FFFFFF;\n",
              "    }\n",
              "  </style>\n",
              "\n",
              "      <script>\n",
              "        const buttonEl =\n",
              "          document.querySelector('#df-fecce4bf-bf2b-44ba-8769-1553804cdb83 button.colab-df-convert');\n",
              "        buttonEl.style.display =\n",
              "          google.colab.kernel.accessAllowed ? 'block' : 'none';\n",
              "\n",
              "        async function convertToInteractive(key) {\n",
              "          const element = document.querySelector('#df-fecce4bf-bf2b-44ba-8769-1553804cdb83');\n",
              "          const dataTable =\n",
              "            await google.colab.kernel.invokeFunction('convertToInteractive',\n",
              "                                                     [key], {});\n",
              "          if (!dataTable) return;\n",
              "\n",
              "          const docLinkHtml = 'Like what you see? Visit the ' +\n",
              "            '<a target=\"_blank\" href=https://colab.research.google.com/notebooks/data_table.ipynb>data table notebook</a>'\n",
              "            + ' to learn more about interactive tables.';\n",
              "          element.innerHTML = '';\n",
              "          dataTable['output_type'] = 'display_data';\n",
              "          await google.colab.output.renderOutput(dataTable, element);\n",
              "          const docLink = document.createElement('div');\n",
              "          docLink.innerHTML = docLinkHtml;\n",
              "          element.appendChild(docLink);\n",
              "        }\n",
              "      </script>\n",
              "    </div>\n",
              "  </div>\n",
              "  "
            ]
          },
          "metadata": {},
          "execution_count": 141
        }
      ]
    },
    {
      "cell_type": "code",
      "source": [
        "performance.info()"
      ],
      "metadata": {
        "colab": {
          "base_uri": "https://localhost:8080/"
        },
        "id": "1QIKEjtH8dzz",
        "outputId": "8071d99e-3435-4f88-871f-3cae7d9df38c"
      },
      "execution_count": 142,
      "outputs": [
        {
          "output_type": "stream",
          "name": "stdout",
          "text": [
            "<class 'pandas.core.frame.DataFrame'>\n",
            "RangeIndex: 1000 entries, 0 to 999\n",
            "Data columns (total 8 columns):\n",
            " #   Column                       Non-Null Count  Dtype \n",
            "---  ------                       --------------  ----- \n",
            " 0   gender                       1000 non-null   object\n",
            " 1   race/ethnicity               1000 non-null   object\n",
            " 2   parental level of education  1000 non-null   object\n",
            " 3   lunch                        1000 non-null   object\n",
            " 4   test preparation course      1000 non-null   object\n",
            " 5   math score                   1000 non-null   int64 \n",
            " 6   reading score                1000 non-null   int64 \n",
            " 7   writing score                1000 non-null   int64 \n",
            "dtypes: int64(3), object(5)\n",
            "memory usage: 62.6+ KB\n"
          ]
        }
      ]
    },
    {
      "cell_type": "markdown",
      "source": [
        "There 5 categorical columns and 3 numerical columns\n",
        "\n",
        "The dataset has no null or duplicate values\n",
        "\n",
        "Categorical columns are:\n",
        "Gender, \n",
        "Race/ethnicity, \n",
        "Parental level of education, \n",
        "lunch\n",
        "\n",
        "Numerical columns are:\n",
        "Math score, \n",
        "Reading score, \n",
        "Writing score\n",
        "\n",
        "The dataset contains the data of 1000 students. This analysis aims to understand the influence of parental level of education, the status of test preparation course etc. on the students performance in the exams."
      ],
      "metadata": {
        "id": "g7qWPtee8kU9"
      }
    },
    {
      "cell_type": "markdown",
      "source": [
        "\n",
        "**1. Find out how many males and females participated in the test.**"
      ],
      "metadata": {
        "id": "toBvxtzz8R9F"
      }
    },
    {
      "cell_type": "code",
      "source": [
        "performance.value_counts('gender')"
      ],
      "metadata": {
        "colab": {
          "base_uri": "https://localhost:8080/"
        },
        "id": "cbSmwfFJwyl9",
        "outputId": "e4a120f5-d36b-457c-9a0a-1ae1ae86dfb9"
      },
      "execution_count": 143,
      "outputs": [
        {
          "output_type": "execute_result",
          "data": {
            "text/plain": [
              "gender\n",
              "female    518\n",
              "male      482\n",
              "dtype: int64"
            ]
          },
          "metadata": {},
          "execution_count": 143
        }
      ]
    },
    {
      "cell_type": "code",
      "source": [
        "plt.title('Female vs Male')\n",
        "plot = sns.countplot(x=performance['gender'],\n",
        "                   order=performance['gender'].value_counts(ascending=False).index);\n",
        "\n",
        "abs_values =performance['gender'].value_counts(ascending=False).values\n",
        "\n",
        "plot.bar_label(container=plot.containers[0], labels=abs_values)"
      ],
      "metadata": {
        "colab": {
          "base_uri": "https://localhost:8080/",
          "height": 489
        },
        "id": "XRrCg2NVFqtr",
        "outputId": "8ceea503-62f9-4d8b-c83d-c0c073f05e9e"
      },
      "execution_count": 144,
      "outputs": [
        {
          "output_type": "execute_result",
          "data": {
            "text/plain": [
              "[Text(0, 0, '518'), Text(0, 0, '482')]"
            ]
          },
          "metadata": {},
          "execution_count": 144
        },
        {
          "output_type": "display_data",
          "data": {
            "text/plain": [
              "<Figure size 640x480 with 1 Axes>"
            ],
            "image/png": "[encoded data removed]"
          },
          "metadata": {}
        }
      ]
    },
    {
      "cell_type": "markdown",
      "source": [
        "There are 518 female students and 482 male students participated in this test."
      ],
      "metadata": {
        "id": "L9AUrmFxHjUR"
      }
    },
    {
      "cell_type": "markdown",
      "source": [
        "**2. What do you think about the students' parental level of education?**"
      ],
      "metadata": {
        "id": "m9nOp-y48kua"
      }
    },
    {
      "cell_type": "code",
      "source": [
        "performance.value_counts('parental level of education')"
      ],
      "metadata": {
        "colab": {
          "base_uri": "https://localhost:8080/"
        },
        "id": "102z3ekAxMTr",
        "outputId": "c2e13d27-a1d1-4996-de5d-30727d55ba1e"
      },
      "execution_count": 145,
      "outputs": [
        {
          "output_type": "execute_result",
          "data": {
            "text/plain": [
              "parental level of education\n",
              "some college          226\n",
              "associate's degree    222\n",
              "high school           196\n",
              "some high school      179\n",
              "bachelor's degree     118\n",
              "master's degree        59\n",
              "dtype: int64"
            ]
          },
          "metadata": {},
          "execution_count": 145
        }
      ]
    },
    {
      "cell_type": "code",
      "source": [
        "plt.title('Parental Level of Education')\n",
        "plot = sns.countplot(x=performance['parental level of education'],hue = \"gender\", data= performance,\n",
        "                   order=performance['parental level of education'].value_counts(ascending=False).index)\n",
        "plt.xticks(rotation=90)"
      ],
      "metadata": {
        "colab": {
          "base_uri": "https://localhost:8080/",
          "height": 709
        },
        "id": "iLuyIq1Zm4UM",
        "outputId": "9269f3fe-31bf-4cb5-df83-dbba04eb1d47"
      },
      "execution_count": 146,
      "outputs": [
        {
          "output_type": "execute_result",
          "data": {
            "text/plain": [
              "(array([0, 1, 2, 3, 4, 5]),\n",
              " [Text(0, 0, 'some college'),\n",
              "  Text(1, 0, \"associate's degree\"),\n",
              "  Text(2, 0, 'high school'),\n",
              "  Text(3, 0, 'some high school'),\n",
              "  Text(4, 0, \"bachelor's degree\"),\n",
              "  Text(5, 0, \"master's degree\")])"
            ]
          },
          "metadata": {},
          "execution_count": 146
        },
        {
          "output_type": "display_data",
          "data": {
            "text/plain": [
              "<Figure size 640x480 with 1 Axes>"
            ],
            "image/png": "[encoded data removed]"
          },
          "metadata": {}
        }
      ]
    },
    {
      "cell_type": "code",
      "source": [
        "performance[['reading score', 'math score', 'writing score']].skew()"
      ],
      "metadata": {
        "colab": {
          "base_uri": "https://localhost:8080/"
        },
        "id": "B6HyU4RBrbep",
        "outputId": "cdc3080f-c9c7-43e0-a123-da9d2aebb051"
      },
      "execution_count": 147,
      "outputs": [
        {
          "output_type": "execute_result",
          "data": {
            "text/plain": [
              "reading score   -0.288362\n",
              "math score      -0.401174\n",
              "writing score   -0.301511\n",
              "dtype: float64"
            ]
          },
          "metadata": {},
          "execution_count": 147
        }
      ]
    },
    {
      "cell_type": "markdown",
      "source": [
        "since the skewness value between -1/2 and +1/2 = approximately symmetric distribution so that lets take mean of the variables"
      ],
      "metadata": {
        "id": "Tc2my21Kryjz"
      }
    },
    {
      "cell_type": "code",
      "source": [
        "analyse = performance.groupby(['parental level of education'])[['gender','reading score', 'math score', 'writing score']].mean()"
      ],
      "metadata": {
        "colab": {
          "base_uri": "https://localhost:8080/"
        },
        "id": "S-b-zbAhp68l",
        "outputId": "2bffb42f-3428-446a-fc3a-2364d2f74be8"
      },
      "execution_count": 148,
      "outputs": [
        {
          "output_type": "stream",
          "name": "stderr",
          "text": [
            "<ipython-input-148-09a86fd6d3ce>:1: FutureWarning: The default value of numeric_only in DataFrameGroupBy.mean is deprecated. In a future version, numeric_only will default to False. Either specify numeric_only or select only columns which should be valid for the function.\n",
            "  analyse = performance.groupby(['parental level of education'])[['gender','reading score', 'math score', 'writing score']].mean()\n"
          ]
        }
      ]
    },
    {
      "cell_type": "code",
      "source": [
        "analyse"
      ],
      "metadata": {
        "colab": {
          "base_uri": "https://localhost:8080/",
          "height": 269
        },
        "id": "5Vy8Jf1WqOcP",
        "outputId": "f339f3e3-ea5a-41c3-86dd-4c9019f18046"
      },
      "execution_count": 149,
      "outputs": [
        {
          "output_type": "execute_result",
          "data": {
            "text/plain": [
              "                             reading score  math score  writing score\n",
              "parental level of education                                          \n",
              "associate's degree               71.018018   67.977477      70.031532\n",
              "bachelor's degree                73.000000   69.288136      73.381356\n",
              "high school                      64.602041   61.821429      62.403061\n",
              "master's degree                  75.949153   70.254237      75.677966\n",
              "some college                     69.566372   67.128319      69.035398\n",
              "some high school                 66.759777   63.134078      64.888268"
            ],
            "text/html": [
              "\n",
              "  <div id=\"df-33c0dee4-e513-49c4-8c24-3fa27b828930\">\n",
              "    <div class=\"colab-df-container\">\n",
              "      <div>\n",
              "<style scoped>\n",
              "    .dataframe tbody tr th:only-of-type {\n",
              "        vertical-align: middle;\n",
              "    }\n",
              "\n",
              "    .dataframe tbody tr th {\n",
              "        vertical-align: top;\n",
              "    }\n",
              "\n",
              "    .dataframe thead th {\n",
              "        text-align: right;\n",
              "    }\n",
              "</style>\n",
              "<table border=\"1\" class=\"dataframe\">\n",
              "  <thead>\n",
              "    <tr style=\"text-align: right;\">\n",
              "      <th></th>\n",
              "      <th>reading score</th>\n",
              "      <th>math score</th>\n",
              "      <th>writing score</th>\n",
              "    </tr>\n",
              "    <tr>\n",
              "      <th>parental level of education</th>\n",
              "      <th></th>\n",
              "      <th></th>\n",
              "      <th></th>\n",
              "    </tr>\n",
              "  </thead>\n",
              "  <tbody>\n",
              "    <tr>\n",
              "      <th>associate's degree</th>\n",
              "      <td>71.018018</td>\n",
              "      <td>67.977477</td>\n",
              "      <td>70.031532</td>\n",
              "    </tr>\n",
              "    <tr>\n",
              "      <th>bachelor's degree</th>\n",
              "      <td>73.000000</td>\n",
              "      <td>69.288136</td>\n",
              "      <td>73.381356</td>\n",
              "    </tr>\n",
              "    <tr>\n",
              "      <th>high school</th>\n",
              "      <td>64.602041</td>\n",
              "      <td>61.821429</td>\n",
              "      <td>62.403061</td>\n",
              "    </tr>\n",
              "    <tr>\n",
              "      <th>master's degree</th>\n",
              "      <td>75.949153</td>\n",
              "      <td>70.254237</td>\n",
              "      <td>75.677966</td>\n",
              "    </tr>\n",
              "    <tr>\n",
              "      <th>some college</th>\n",
              "      <td>69.566372</td>\n",
              "      <td>67.128319</td>\n",
              "      <td>69.035398</td>\n",
              "    </tr>\n",
              "    <tr>\n",
              "      <th>some high school</th>\n",
              "      <td>66.759777</td>\n",
              "      <td>63.134078</td>\n",
              "      <td>64.888268</td>\n",
              "    </tr>\n",
              "  </tbody>\n",
              "</table>\n",
              "</div>\n",
              "      <button class=\"colab-df-convert\" onclick=\"convertToInteractive('df-33c0dee4-e513-49c4-8c24-3fa27b828930')\"\n",
              "              title=\"Convert this dataframe to an interactive table.\"\n",
              "              style=\"display:none;\">\n",
              "        \n",
              "  <svg xmlns=\"http://www.w3.org/2000/svg\" height=\"24px\"viewBox=\"0 0 24 24\"\n",
              "       width=\"24px\">\n",
              "    <path d=\"M0 0h24v24H0V0z\" fill=\"none\"/>\n",
              "    <path d=\"M18.56 5.44l.94 2.06.94-2.06 2.06-.94-2.06-.94-.94-2.06-.94 2.06-2.06.94zm-11 1L8.5 8.5l.94-2.06 2.06-.94-2.06-.94L8.5 2.5l-.94 2.06-2.06.94zm10 10l.94 2.06.94-2.06 2.06-.94-2.06-.94-.94-2.06-.94 2.06-2.06.94z\"/><path d=\"M17.41 7.96l-1.37-1.37c-.4-.4-.92-.59-1.43-.59-.52 0-1.04.2-1.43.59L10.3 9.45l-7.72 7.72c-.78.78-.78 2.05 0 2.83L4 21.41c.39.39.9.59 1.41.59.51 0 1.02-.2 1.41-.59l7.78-7.78 2.81-2.81c.8-.78.8-2.07 0-2.86zM5.41 20L4 18.59l7.72-7.72 1.47 1.35L5.41 20z\"/>\n",
              "  </svg>\n",
              "      </button>\n",
              "      \n",
              "  <style>\n",
              "    .colab-df-container {\n",
              "      display:flex;\n",
              "      flex-wrap:wrap;\n",
              "      gap: 12px;\n",
              "    }\n",
              "\n",
              "    .colab-df-convert {\n",
              "      background-color: #E8F0FE;\n",
              "      border: none;\n",
              "      border-radius: 50%;\n",
              "      cursor: pointer;\n",
              "      display: none;\n",
              "      fill: #1967D2;\n",
              "      height: 32px;\n",
              "      padding: 0 0 0 0;\n",
              "      width: 32px;\n",
              "    }\n",
              "\n",
              "    .colab-df-convert:hover {\n",
              "      background-color: #E2EBFA;\n",
              "      box-shadow: 0px 1px 2px rgba(60, 64, 67, 0.3), 0px 1px 3px 1px rgba(60, 64, 67, 0.15);\n",
              "      fill: #174EA6;\n",
              "    }\n",
              "\n",
              "    [theme=dark] .colab-df-convert {\n",
              "      background-color: #3B4455;\n",
              "      fill: #D2E3FC;\n",
              "    }\n",
              "\n",
              "    [theme=dark] .colab-df-convert:hover {\n",
              "      background-color: #434B5C;\n",
              "      box-shadow: 0px 1px 3px 1px rgba(0, 0, 0, 0.15);\n",
              "      filter: drop-shadow(0px 1px 2px rgba(0, 0, 0, 0.3));\n",
              "      fill: #FFFFFF;\n",
              "    }\n",
              "  </style>\n",
              "\n",
              "      <script>\n",
              "        const buttonEl =\n",
              "          document.querySelector('#df-33c0dee4-e513-49c4-8c24-3fa27b828930 button.colab-df-convert');\n",
              "        buttonEl.style.display =\n",
              "          google.colab.kernel.accessAllowed ? 'block' : 'none';\n",
              "\n",
              "        async function convertToInteractive(key) {\n",
              "          const element = document.querySelector('#df-33c0dee4-e513-49c4-8c24-3fa27b828930');\n",
              "          const dataTable =\n",
              "            await google.colab.kernel.invokeFunction('convertToInteractive',\n",
              "                                                     [key], {});\n",
              "          if (!dataTable) return;\n",
              "\n",
              "          const docLinkHtml = 'Like what you see? Visit the ' +\n",
              "            '<a target=\"_blank\" href=https://colab.research.google.com/notebooks/data_table.ipynb>data table notebook</a>'\n",
              "            + ' to learn more about interactive tables.';\n",
              "          element.innerHTML = '';\n",
              "          dataTable['output_type'] = 'display_data';\n",
              "          await google.colab.output.renderOutput(dataTable, element);\n",
              "          const docLink = document.createElement('div');\n",
              "          docLink.innerHTML = docLinkHtml;\n",
              "          element.appendChild(docLink);\n",
              "        }\n",
              "      </script>\n",
              "    </div>\n",
              "  </div>\n",
              "  "
            ]
          },
          "metadata": {},
          "execution_count": 149
        }
      ]
    },
    {
      "cell_type": "code",
      "source": [
        "analyse.plot.bar()"
      ],
      "metadata": {
        "colab": {
          "base_uri": "https://localhost:8080/",
          "height": 582
        },
        "id": "w8p3LN1y0Clw",
        "outputId": "eab7dded-07d0-4fcc-cf2a-a15f2f8d48b6"
      },
      "execution_count": 150,
      "outputs": [
        {
          "output_type": "execute_result",
          "data": {
            "text/plain": [
              "<Axes: xlabel='parental level of education'>"
            ]
          },
          "metadata": {},
          "execution_count": 150
        },
        {
          "output_type": "display_data",
          "data": {
            "text/plain": [
              "<Figure size 640x480 with 1 Axes>"
            ],
            "image/png": "[encoded data removed]"
          },
          "metadata": {}
        }
      ]
    },
    {
      "cell_type": "markdown",
      "source": [
        "From the above plots and analysis it is clear that even though there is least group of parents are with masters degree but students of those parents score well in maths reading and writing tests. And those who scores less have parents with high school education only."
      ],
      "metadata": {
        "id": "MIPK8oPd1v1y"
      }
    },
    {
      "cell_type": "markdown",
      "source": [
        "**3. Who scores the most on average for math, reading and writing based on**\n",
        "\n",
        "**● Gender**\n",
        "\n",
        "**● Test preparation cours**"
      ],
      "metadata": {
        "id": "nd1m12Q38sbD"
      }
    },
    {
      "cell_type": "code",
      "source": [
        "gend_score=performance.groupby('gender')['math score','reading score','writing score'].mean()"
      ],
      "metadata": {
        "colab": {
          "base_uri": "https://localhost:8080/"
        },
        "id": "uF4qE4Pp7Nju",
        "outputId": "479824cf-fa0c-40e9-f8cd-7908f956d722"
      },
      "execution_count": 151,
      "outputs": [
        {
          "output_type": "stream",
          "name": "stderr",
          "text": [
            "<ipython-input-151-6d4621b00fdd>:1: FutureWarning: Indexing with multiple keys (implicitly converted to a tuple of keys) will be deprecated, use a list instead.\n",
            "  gend_score=performance.groupby('gender')['math score','reading score','writing score'].mean()\n"
          ]
        }
      ]
    },
    {
      "cell_type": "code",
      "source": [
        "gend_score"
      ],
      "metadata": {
        "colab": {
          "base_uri": "https://localhost:8080/",
          "height": 143
        },
        "id": "SBhWUkSH4V6L",
        "outputId": "5342887d-3fd3-4724-e385-f8c01b736b0f"
      },
      "execution_count": 152,
      "outputs": [
        {
          "output_type": "execute_result",
          "data": {
            "text/plain": [
              "        math score  reading score  writing score\n",
              "gender                                          \n",
              "female   63.376448      72.590734      72.467181\n",
              "male     68.821577      65.545643      63.446058"
            ],
            "text/html": [
              "\n",
              "  <div id=\"df-808751b8-1c8c-4999-b1a4-5e4dff50761d\">\n",
              "    <div class=\"colab-df-container\">\n",
              "      <div>\n",
              "<style scoped>\n",
              "    .dataframe tbody tr th:only-of-type {\n",
              "        vertical-align: middle;\n",
              "    }\n",
              "\n",
              "    .dataframe tbody tr th {\n",
              "        vertical-align: top;\n",
              "    }\n",
              "\n",
              "    .dataframe thead th {\n",
              "        text-align: right;\n",
              "    }\n",
              "</style>\n",
              "<table border=\"1\" class=\"dataframe\">\n",
              "  <thead>\n",
              "    <tr style=\"text-align: right;\">\n",
              "      <th></th>\n",
              "      <th>math score</th>\n",
              "      <th>reading score</th>\n",
              "      <th>writing score</th>\n",
              "    </tr>\n",
              "    <tr>\n",
              "      <th>gender</th>\n",
              "      <th></th>\n",
              "      <th></th>\n",
              "      <th></th>\n",
              "    </tr>\n",
              "  </thead>\n",
              "  <tbody>\n",
              "    <tr>\n",
              "      <th>female</th>\n",
              "      <td>63.376448</td>\n",
              "      <td>72.590734</td>\n",
              "      <td>72.467181</td>\n",
              "    </tr>\n",
              "    <tr>\n",
              "      <th>male</th>\n",
              "      <td>68.821577</td>\n",
              "      <td>65.545643</td>\n",
              "      <td>63.446058</td>\n",
              "    </tr>\n",
              "  </tbody>\n",
              "</table>\n",
              "</div>\n",
              "      <button class=\"colab-df-convert\" onclick=\"convertToInteractive('df-808751b8-1c8c-4999-b1a4-5e4dff50761d')\"\n",
              "              title=\"Convert this dataframe to an interactive table.\"\n",
              "              style=\"display:none;\">\n",
              "        \n",
              "  <svg xmlns=\"http://www.w3.org/2000/svg\" height=\"24px\"viewBox=\"0 0 24 24\"\n",
              "       width=\"24px\">\n",
              "    <path d=\"M0 0h24v24H0V0z\" fill=\"none\"/>\n",
              "    <path d=\"M18.56 5.44l.94 2.06.94-2.06 2.06-.94-2.06-.94-.94-2.06-.94 2.06-2.06.94zm-11 1L8.5 8.5l.94-2.06 2.06-.94-2.06-.94L8.5 2.5l-.94 2.06-2.06.94zm10 10l.94 2.06.94-2.06 2.06-.94-2.06-.94-.94-2.06-.94 2.06-2.06.94z\"/><path d=\"M17.41 7.96l-1.37-1.37c-.4-.4-.92-.59-1.43-.59-.52 0-1.04.2-1.43.59L10.3 9.45l-7.72 7.72c-.78.78-.78 2.05 0 2.83L4 21.41c.39.39.9.59 1.41.59.51 0 1.02-.2 1.41-.59l7.78-7.78 2.81-2.81c.8-.78.8-2.07 0-2.86zM5.41 20L4 18.59l7.72-7.72 1.47 1.35L5.41 20z\"/>\n",
              "  </svg>\n",
              "      </button>\n",
              "      \n",
              "  <style>\n",
              "    .colab-df-container {\n",
              "      display:flex;\n",
              "      flex-wrap:wrap;\n",
              "      gap: 12px;\n",
              "    }\n",
              "\n",
              "    .colab-df-convert {\n",
              "      background-color: #E8F0FE;\n",
              "      border: none;\n",
              "      border-radius: 50%;\n",
              "      cursor: pointer;\n",
              "      display: none;\n",
              "      fill: #1967D2;\n",
              "      height: 32px;\n",
              "      padding: 0 0 0 0;\n",
              "      width: 32px;\n",
              "    }\n",
              "\n",
              "    .colab-df-convert:hover {\n",
              "      background-color: #E2EBFA;\n",
              "      box-shadow: 0px 1px 2px rgba(60, 64, 67, 0.3), 0px 1px 3px 1px rgba(60, 64, 67, 0.15);\n",
              "      fill: #174EA6;\n",
              "    }\n",
              "\n",
              "    [theme=dark] .colab-df-convert {\n",
              "      background-color: #3B4455;\n",
              "      fill: #D2E3FC;\n",
              "    }\n",
              "\n",
              "    [theme=dark] .colab-df-convert:hover {\n",
              "      background-color: #434B5C;\n",
              "      box-shadow: 0px 1px 3px 1px rgba(0, 0, 0, 0.15);\n",
              "      filter: drop-shadow(0px 1px 2px rgba(0, 0, 0, 0.3));\n",
              "      fill: #FFFFFF;\n",
              "    }\n",
              "  </style>\n",
              "\n",
              "      <script>\n",
              "        const buttonEl =\n",
              "          document.querySelector('#df-808751b8-1c8c-4999-b1a4-5e4dff50761d button.colab-df-convert');\n",
              "        buttonEl.style.display =\n",
              "          google.colab.kernel.accessAllowed ? 'block' : 'none';\n",
              "\n",
              "        async function convertToInteractive(key) {\n",
              "          const element = document.querySelector('#df-808751b8-1c8c-4999-b1a4-5e4dff50761d');\n",
              "          const dataTable =\n",
              "            await google.colab.kernel.invokeFunction('convertToInteractive',\n",
              "                                                     [key], {});\n",
              "          if (!dataTable) return;\n",
              "\n",
              "          const docLinkHtml = 'Like what you see? Visit the ' +\n",
              "            '<a target=\"_blank\" href=https://colab.research.google.com/notebooks/data_table.ipynb>data table notebook</a>'\n",
              "            + ' to learn more about interactive tables.';\n",
              "          element.innerHTML = '';\n",
              "          dataTable['output_type'] = 'display_data';\n",
              "          await google.colab.output.renderOutput(dataTable, element);\n",
              "          const docLink = document.createElement('div');\n",
              "          docLink.innerHTML = docLinkHtml;\n",
              "          element.appendChild(docLink);\n",
              "        }\n",
              "      </script>\n",
              "    </div>\n",
              "  </div>\n",
              "  "
            ]
          },
          "metadata": {},
          "execution_count": 152
        }
      ]
    },
    {
      "cell_type": "code",
      "source": [
        "gend_score.plot.bar()"
      ],
      "metadata": {
        "colab": {
          "base_uri": "https://localhost:8080/",
          "height": 500
        },
        "id": "F9pju9Gt4r4k",
        "outputId": "9e7ca929-47e0-4485-bac6-5fda16362c17"
      },
      "execution_count": 153,
      "outputs": [
        {
          "output_type": "execute_result",
          "data": {
            "text/plain": [
              "<Axes: xlabel='gender'>"
            ]
          },
          "metadata": {},
          "execution_count": 153
        },
        {
          "output_type": "display_data",
          "data": {
            "text/plain": [
              "<Figure size 640x480 with 1 Axes>"
            ],
            "image/png": "[encoded data removed]"
          },
          "metadata": {}
        }
      ]
    },
    {
      "cell_type": "markdown",
      "source": [
        "Among the given set of students female students have higher average reading and writing scores than their male counterparts. Where male students have higher average math scores"
      ],
      "metadata": {
        "id": "eSfLKkH249PN"
      }
    },
    {
      "cell_type": "code",
      "source": [
        "perform_score=performance.groupby('test preparation course')['math score','reading score','writing score'].mean()"
      ],
      "metadata": {
        "colab": {
          "base_uri": "https://localhost:8080/"
        },
        "id": "HDhVH_xOyzmG",
        "outputId": "48a76357-d819-41a5-f3b8-e2c07fadb234"
      },
      "execution_count": 157,
      "outputs": [
        {
          "output_type": "stream",
          "name": "stderr",
          "text": [
            "<ipython-input-157-b26e71374e11>:1: FutureWarning: Indexing with multiple keys (implicitly converted to a tuple of keys) will be deprecated, use a list instead.\n",
            "  perform_score=performance.groupby('test preparation course')['math score','reading score','writing score'].mean()\n"
          ]
        }
      ]
    },
    {
      "cell_type": "code",
      "source": [
        "perform_score"
      ],
      "metadata": {
        "colab": {
          "base_uri": "https://localhost:8080/",
          "height": 143
        },
        "id": "a1lbio-s5rj8",
        "outputId": "a5ca4303-a66a-4165-afa9-f34386976c5b"
      },
      "execution_count": 158,
      "outputs": [
        {
          "output_type": "execute_result",
          "data": {
            "text/plain": [
              "                         math score  reading score  writing score\n",
              "test preparation course                                          \n",
              "completed                  69.96648      74.175978      74.684358\n",
              "none                       63.78972      66.417445      64.457944"
            ],
            "text/html": [
              "\n",
              "  <div id=\"df-88f458c6-c8b1-4d6f-86eb-fd14f57b6a73\">\n",
              "    <div class=\"colab-df-container\">\n",
              "      <div>\n",
              "<style scoped>\n",
              "    .dataframe tbody tr th:only-of-type {\n",
              "        vertical-align: middle;\n",
              "    }\n",
              "\n",
              "    .dataframe tbody tr th {\n",
              "        vertical-align: top;\n",
              "    }\n",
              "\n",
              "    .dataframe thead th {\n",
              "        text-align: right;\n",
              "    }\n",
              "</style>\n",
              "<table border=\"1\" class=\"dataframe\">\n",
              "  <thead>\n",
              "    <tr style=\"text-align: right;\">\n",
              "      <th></th>\n",
              "      <th>math score</th>\n",
              "      <th>reading score</th>\n",
              "      <th>writing score</th>\n",
              "    </tr>\n",
              "    <tr>\n",
              "      <th>test preparation course</th>\n",
              "      <th></th>\n",
              "      <th></th>\n",
              "      <th></th>\n",
              "    </tr>\n",
              "  </thead>\n",
              "  <tbody>\n",
              "    <tr>\n",
              "      <th>completed</th>\n",
              "      <td>69.96648</td>\n",
              "      <td>74.175978</td>\n",
              "      <td>74.684358</td>\n",
              "    </tr>\n",
              "    <tr>\n",
              "      <th>none</th>\n",
              "      <td>63.78972</td>\n",
              "      <td>66.417445</td>\n",
              "      <td>64.457944</td>\n",
              "    </tr>\n",
              "  </tbody>\n",
              "</table>\n",
              "</div>\n",
              "      <button class=\"colab-df-convert\" onclick=\"convertToInteractive('df-88f458c6-c8b1-4d6f-86eb-fd14f57b6a73')\"\n",
              "              title=\"Convert this dataframe to an interactive table.\"\n",
              "              style=\"display:none;\">\n",
              "        \n",
              "  <svg xmlns=\"http://www.w3.org/2000/svg\" height=\"24px\"viewBox=\"0 0 24 24\"\n",
              "       width=\"24px\">\n",
              "    <path d=\"M0 0h24v24H0V0z\" fill=\"none\"/>\n",
              "    <path d=\"M18.56 5.44l.94 2.06.94-2.06 2.06-.94-2.06-.94-.94-2.06-.94 2.06-2.06.94zm-11 1L8.5 8.5l.94-2.06 2.06-.94-2.06-.94L8.5 2.5l-.94 2.06-2.06.94zm10 10l.94 2.06.94-2.06 2.06-.94-2.06-.94-.94-2.06-.94 2.06-2.06.94z\"/><path d=\"M17.41 7.96l-1.37-1.37c-.4-.4-.92-.59-1.43-.59-.52 0-1.04.2-1.43.59L10.3 9.45l-7.72 7.72c-.78.78-.78 2.05 0 2.83L4 21.41c.39.39.9.59 1.41.59.51 0 1.02-.2 1.41-.59l7.78-7.78 2.81-2.81c.8-.78.8-2.07 0-2.86zM5.41 20L4 18.59l7.72-7.72 1.47 1.35L5.41 20z\"/>\n",
              "  </svg>\n",
              "      </button>\n",
              "      \n",
              "  <style>\n",
              "    .colab-df-container {\n",
              "      display:flex;\n",
              "      flex-wrap:wrap;\n",
              "      gap: 12px;\n",
              "    }\n",
              "\n",
              "    .colab-df-convert {\n",
              "      background-color: #E8F0FE;\n",
              "      border: none;\n",
              "      border-radius: 50%;\n",
              "      cursor: pointer;\n",
              "      display: none;\n",
              "      fill: #1967D2;\n",
              "      height: 32px;\n",
              "      padding: 0 0 0 0;\n",
              "      width: 32px;\n",
              "    }\n",
              "\n",
              "    .colab-df-convert:hover {\n",
              "      background-color: #E2EBFA;\n",
              "      box-shadow: 0px 1px 2px rgba(60, 64, 67, 0.3), 0px 1px 3px 1px rgba(60, 64, 67, 0.15);\n",
              "      fill: #174EA6;\n",
              "    }\n",
              "\n",
              "    [theme=dark] .colab-df-convert {\n",
              "      background-color: #3B4455;\n",
              "      fill: #D2E3FC;\n",
              "    }\n",
              "\n",
              "    [theme=dark] .colab-df-convert:hover {\n",
              "      background-color: #434B5C;\n",
              "      box-shadow: 0px 1px 3px 1px rgba(0, 0, 0, 0.15);\n",
              "      filter: drop-shadow(0px 1px 2px rgba(0, 0, 0, 0.3));\n",
              "      fill: #FFFFFF;\n",
              "    }\n",
              "  </style>\n",
              "\n",
              "      <script>\n",
              "        const buttonEl =\n",
              "          document.querySelector('#df-88f458c6-c8b1-4d6f-86eb-fd14f57b6a73 button.colab-df-convert');\n",
              "        buttonEl.style.display =\n",
              "          google.colab.kernel.accessAllowed ? 'block' : 'none';\n",
              "\n",
              "        async function convertToInteractive(key) {\n",
              "          const element = document.querySelector('#df-88f458c6-c8b1-4d6f-86eb-fd14f57b6a73');\n",
              "          const dataTable =\n",
              "            await google.colab.kernel.invokeFunction('convertToInteractive',\n",
              "                                                     [key], {});\n",
              "          if (!dataTable) return;\n",
              "\n",
              "          const docLinkHtml = 'Like what you see? Visit the ' +\n",
              "            '<a target=\"_blank\" href=https://colab.research.google.com/notebooks/data_table.ipynb>data table notebook</a>'\n",
              "            + ' to learn more about interactive tables.';\n",
              "          element.innerHTML = '';\n",
              "          dataTable['output_type'] = 'display_data';\n",
              "          await google.colab.output.renderOutput(dataTable, element);\n",
              "          const docLink = document.createElement('div');\n",
              "          docLink.innerHTML = docLinkHtml;\n",
              "          element.appendChild(docLink);\n",
              "        }\n",
              "      </script>\n",
              "    </div>\n",
              "  </div>\n",
              "  "
            ]
          },
          "metadata": {},
          "execution_count": 158
        }
      ]
    },
    {
      "cell_type": "code",
      "source": [
        "perform_score.plot.bar()"
      ],
      "metadata": {
        "colab": {
          "base_uri": "https://localhost:8080/",
          "height": 526
        },
        "id": "93fslBSf5wye",
        "outputId": "545e13e5-1c9d-43c9-e055-8757cf1b38fe"
      },
      "execution_count": 159,
      "outputs": [
        {
          "output_type": "execute_result",
          "data": {
            "text/plain": [
              "<Axes: xlabel='test preparation course'>"
            ]
          },
          "metadata": {},
          "execution_count": 159
        },
        {
          "output_type": "display_data",
          "data": {
            "text/plain": [
              "<Figure size 640x480 with 1 Axes>"
            ],
            "image/png": "[encoded data removed]"
          },
          "metadata": {}
        }
      ]
    },
    {
      "cell_type": "markdown",
      "source": [
        "Students who have completed the test preparation course have higher average scores in both maths reading and writing"
      ],
      "metadata": {
        "id": "jctOnN0k6ipm"
      }
    },
    {
      "cell_type": "markdown",
      "source": [
        "**4. What do you think about the scoring variation for math, reading and writing\n",
        "based on**\n",
        "\n",
        "**● Gender**\n",
        "\n",
        "**● Test preparation cours**"
      ],
      "metadata": {
        "id": "fMdPp3tmhykc"
      }
    },
    {
      "cell_type": "code",
      "source": [
        "gend_score_var=performance.groupby('gender')['math score','reading score','writing score'].var()"
      ],
      "metadata": {
        "colab": {
          "base_uri": "https://localhost:8080/"
        },
        "id": "ek1sGeElAqdQ",
        "outputId": "a93b07ad-b68f-4f1f-a980-30ac2c2cc5d7"
      },
      "execution_count": 160,
      "outputs": [
        {
          "output_type": "stream",
          "name": "stderr",
          "text": [
            "<ipython-input-160-dc8800d73d26>:1: FutureWarning: Indexing with multiple keys (implicitly converted to a tuple of keys) will be deprecated, use a list instead.\n",
            "  gend_score_var=performance.groupby('gender')['math score','reading score','writing score'].var()\n"
          ]
        }
      ]
    },
    {
      "cell_type": "code",
      "source": [
        "gend_score_var"
      ],
      "metadata": {
        "colab": {
          "base_uri": "https://localhost:8080/",
          "height": 143
        },
        "id": "Zl11t9j3A7vi",
        "outputId": "f030defb-0082-443a-cdc2-add4d2f6bd0a"
      },
      "execution_count": 161,
      "outputs": [
        {
          "output_type": "execute_result",
          "data": {
            "text/plain": [
              "        math score  reading score  writing score\n",
              "gender                                          \n",
              "female  256.958593     207.677438     220.369327\n",
              "male    211.889097     200.211010     202.413924"
            ],
            "text/html": [
              "\n",
              "  <div id=\"df-af4b477d-71de-42c4-ae5d-04ffa00df7ed\">\n",
              "    <div class=\"colab-df-container\">\n",
              "      <div>\n",
              "<style scoped>\n",
              "    .dataframe tbody tr th:only-of-type {\n",
              "        vertical-align: middle;\n",
              "    }\n",
              "\n",
              "    .dataframe tbody tr th {\n",
              "        vertical-align: top;\n",
              "    }\n",
              "\n",
              "    .dataframe thead th {\n",
              "        text-align: right;\n",
              "    }\n",
              "</style>\n",
              "<table border=\"1\" class=\"dataframe\">\n",
              "  <thead>\n",
              "    <tr style=\"text-align: right;\">\n",
              "      <th></th>\n",
              "      <th>math score</th>\n",
              "      <th>reading score</th>\n",
              "      <th>writing score</th>\n",
              "    </tr>\n",
              "    <tr>\n",
              "      <th>gender</th>\n",
              "      <th></th>\n",
              "      <th></th>\n",
              "      <th></th>\n",
              "    </tr>\n",
              "  </thead>\n",
              "  <tbody>\n",
              "    <tr>\n",
              "      <th>female</th>\n",
              "      <td>256.958593</td>\n",
              "      <td>207.677438</td>\n",
              "      <td>220.369327</td>\n",
              "    </tr>\n",
              "    <tr>\n",
              "      <th>male</th>\n",
              "      <td>211.889097</td>\n",
              "      <td>200.211010</td>\n",
              "      <td>202.413924</td>\n",
              "    </tr>\n",
              "  </tbody>\n",
              "</table>\n",
              "</div>\n",
              "      <button class=\"colab-df-convert\" onclick=\"convertToInteractive('df-af4b477d-71de-42c4-ae5d-04ffa00df7ed')\"\n",
              "              title=\"Convert this dataframe to an interactive table.\"\n",
              "              style=\"display:none;\">\n",
              "        \n",
              "  <svg xmlns=\"http://www.w3.org/2000/svg\" height=\"24px\"viewBox=\"0 0 24 24\"\n",
              "       width=\"24px\">\n",
              "    <path d=\"M0 0h24v24H0V0z\" fill=\"none\"/>\n",
              "    <path d=\"M18.56 5.44l.94 2.06.94-2.06 2.06-.94-2.06-.94-.94-2.06-.94 2.06-2.06.94zm-11 1L8.5 8.5l.94-2.06 2.06-.94-2.06-.94L8.5 2.5l-.94 2.06-2.06.94zm10 10l.94 2.06.94-2.06 2.06-.94-2.06-.94-.94-2.06-.94 2.06-2.06.94z\"/><path d=\"M17.41 7.96l-1.37-1.37c-.4-.4-.92-.59-1.43-.59-.52 0-1.04.2-1.43.59L10.3 9.45l-7.72 7.72c-.78.78-.78 2.05 0 2.83L4 21.41c.39.39.9.59 1.41.59.51 0 1.02-.2 1.41-.59l7.78-7.78 2.81-2.81c.8-.78.8-2.07 0-2.86zM5.41 20L4 18.59l7.72-7.72 1.47 1.35L5.41 20z\"/>\n",
              "  </svg>\n",
              "      </button>\n",
              "      \n",
              "  <style>\n",
              "    .colab-df-container {\n",
              "      display:flex;\n",
              "      flex-wrap:wrap;\n",
              "      gap: 12px;\n",
              "    }\n",
              "\n",
              "    .colab-df-convert {\n",
              "      background-color: #E8F0FE;\n",
              "      border: none;\n",
              "      border-radius: 50%;\n",
              "      cursor: pointer;\n",
              "      display: none;\n",
              "      fill: #1967D2;\n",
              "      height: 32px;\n",
              "      padding: 0 0 0 0;\n",
              "      width: 32px;\n",
              "    }\n",
              "\n",
              "    .colab-df-convert:hover {\n",
              "      background-color: #E2EBFA;\n",
              "      box-shadow: 0px 1px 2px rgba(60, 64, 67, 0.3), 0px 1px 3px 1px rgba(60, 64, 67, 0.15);\n",
              "      fill: #174EA6;\n",
              "    }\n",
              "\n",
              "    [theme=dark] .colab-df-convert {\n",
              "      background-color: #3B4455;\n",
              "      fill: #D2E3FC;\n",
              "    }\n",
              "\n",
              "    [theme=dark] .colab-df-convert:hover {\n",
              "      background-color: #434B5C;\n",
              "      box-shadow: 0px 1px 3px 1px rgba(0, 0, 0, 0.15);\n",
              "      filter: drop-shadow(0px 1px 2px rgba(0, 0, 0, 0.3));\n",
              "      fill: #FFFFFF;\n",
              "    }\n",
              "  </style>\n",
              "\n",
              "      <script>\n",
              "        const buttonEl =\n",
              "          document.querySelector('#df-af4b477d-71de-42c4-ae5d-04ffa00df7ed button.colab-df-convert');\n",
              "        buttonEl.style.display =\n",
              "          google.colab.kernel.accessAllowed ? 'block' : 'none';\n",
              "\n",
              "        async function convertToInteractive(key) {\n",
              "          const element = document.querySelector('#df-af4b477d-71de-42c4-ae5d-04ffa00df7ed');\n",
              "          const dataTable =\n",
              "            await google.colab.kernel.invokeFunction('convertToInteractive',\n",
              "                                                     [key], {});\n",
              "          if (!dataTable) return;\n",
              "\n",
              "          const docLinkHtml = 'Like what you see? Visit the ' +\n",
              "            '<a target=\"_blank\" href=https://colab.research.google.com/notebooks/data_table.ipynb>data table notebook</a>'\n",
              "            + ' to learn more about interactive tables.';\n",
              "          element.innerHTML = '';\n",
              "          dataTable['output_type'] = 'display_data';\n",
              "          await google.colab.output.renderOutput(dataTable, element);\n",
              "          const docLink = document.createElement('div');\n",
              "          docLink.innerHTML = docLinkHtml;\n",
              "          element.appendChild(docLink);\n",
              "        }\n",
              "      </script>\n",
              "    </div>\n",
              "  </div>\n",
              "  "
            ]
          },
          "metadata": {},
          "execution_count": 161
        }
      ]
    },
    {
      "cell_type": "code",
      "source": [
        "gend_score_var.plot.bar()"
      ],
      "metadata": {
        "colab": {
          "base_uri": "https://localhost:8080/",
          "height": 500
        },
        "id": "zdOr4Wt6BcUY",
        "outputId": "7896f24c-3ce0-4bf5-9a7e-392a0998ba8f"
      },
      "execution_count": 162,
      "outputs": [
        {
          "output_type": "execute_result",
          "data": {
            "text/plain": [
              "<Axes: xlabel='gender'>"
            ]
          },
          "metadata": {},
          "execution_count": 162
        },
        {
          "output_type": "display_data",
          "data": {
            "text/plain": [
              "<Figure size 640x480 with 1 Axes>"
            ],
            "image/png": "[encoded data removed]"
          },
          "metadata": {}
        }
      ]
    },
    {
      "cell_type": "markdown",
      "source": [
        "Among the given set of students female students have higher variation in math score than their male counterparts. Where male students have less variation in reading and writing scores"
      ],
      "metadata": {
        "id": "JR1Zny_EHoSX"
      }
    },
    {
      "cell_type": "code",
      "source": [
        "prep_score_var=performance.groupby('test preparation course')['math score','reading score','writing score'].var()"
      ],
      "metadata": {
        "colab": {
          "base_uri": "https://localhost:8080/"
        },
        "id": "1UrkSbRW5pOf",
        "outputId": "13bbcb7c-a7d8-412c-b79f-3b71674c02aa"
      },
      "execution_count": 164,
      "outputs": [
        {
          "output_type": "stream",
          "name": "stderr",
          "text": [
            "<ipython-input-164-4574ed78128a>:1: FutureWarning: Indexing with multiple keys (implicitly converted to a tuple of keys) will be deprecated, use a list instead.\n",
            "  prep_score_var=performance.groupby('test preparation course')['math score','reading score','writing score'].var()\n"
          ]
        }
      ]
    },
    {
      "cell_type": "code",
      "source": [
        "prep_score_var"
      ],
      "metadata": {
        "colab": {
          "base_uri": "https://localhost:8080/",
          "height": 143
        },
        "id": "nwZ34GBrH6kg",
        "outputId": "b83ca508-2c3f-4795-ddcb-21d686f558d1"
      },
      "execution_count": 165,
      "outputs": [
        {
          "output_type": "execute_result",
          "data": {
            "text/plain": [
              "                         math score  reading score  writing score\n",
              "test preparation course                                          \n",
              "completed                210.884027     183.265864     175.202612\n",
              "none                     246.668662     213.419851     226.251739"
            ],
            "text/html": [
              "\n",
              "  <div id=\"df-2f55e0fc-b372-45b0-ac6f-fdd7d3fc7ac5\">\n",
              "    <div class=\"colab-df-container\">\n",
              "      <div>\n",
              "<style scoped>\n",
              "    .dataframe tbody tr th:only-of-type {\n",
              "        vertical-align: middle;\n",
              "    }\n",
              "\n",
              "    .dataframe tbody tr th {\n",
              "        vertical-align: top;\n",
              "    }\n",
              "\n",
              "    .dataframe thead th {\n",
              "        text-align: right;\n",
              "    }\n",
              "</style>\n",
              "<table border=\"1\" class=\"dataframe\">\n",
              "  <thead>\n",
              "    <tr style=\"text-align: right;\">\n",
              "      <th></th>\n",
              "      <th>math score</th>\n",
              "      <th>reading score</th>\n",
              "      <th>writing score</th>\n",
              "    </tr>\n",
              "    <tr>\n",
              "      <th>test preparation course</th>\n",
              "      <th></th>\n",
              "      <th></th>\n",
              "      <th></th>\n",
              "    </tr>\n",
              "  </thead>\n",
              "  <tbody>\n",
              "    <tr>\n",
              "      <th>completed</th>\n",
              "      <td>210.884027</td>\n",
              "      <td>183.265864</td>\n",
              "      <td>175.202612</td>\n",
              "    </tr>\n",
              "    <tr>\n",
              "      <th>none</th>\n",
              "      <td>246.668662</td>\n",
              "      <td>213.419851</td>\n",
              "      <td>226.251739</td>\n",
              "    </tr>\n",
              "  </tbody>\n",
              "</table>\n",
              "</div>\n",
              "      <button class=\"colab-df-convert\" onclick=\"convertToInteractive('df-2f55e0fc-b372-45b0-ac6f-fdd7d3fc7ac5')\"\n",
              "              title=\"Convert this dataframe to an interactive table.\"\n",
              "              style=\"display:none;\">\n",
              "        \n",
              "  <svg xmlns=\"http://www.w3.org/2000/svg\" height=\"24px\"viewBox=\"0 0 24 24\"\n",
              "       width=\"24px\">\n",
              "    <path d=\"M0 0h24v24H0V0z\" fill=\"none\"/>\n",
              "    <path d=\"M18.56 5.44l.94 2.06.94-2.06 2.06-.94-2.06-.94-.94-2.06-.94 2.06-2.06.94zm-11 1L8.5 8.5l.94-2.06 2.06-.94-2.06-.94L8.5 2.5l-.94 2.06-2.06.94zm10 10l.94 2.06.94-2.06 2.06-.94-2.06-.94-.94-2.06-.94 2.06-2.06.94z\"/><path d=\"M17.41 7.96l-1.37-1.37c-.4-.4-.92-.59-1.43-.59-.52 0-1.04.2-1.43.59L10.3 9.45l-7.72 7.72c-.78.78-.78 2.05 0 2.83L4 21.41c.39.39.9.59 1.41.59.51 0 1.02-.2 1.41-.59l7.78-7.78 2.81-2.81c.8-.78.8-2.07 0-2.86zM5.41 20L4 18.59l7.72-7.72 1.47 1.35L5.41 20z\"/>\n",
              "  </svg>\n",
              "      </button>\n",
              "      \n",
              "  <style>\n",
              "    .colab-df-container {\n",
              "      display:flex;\n",
              "      flex-wrap:wrap;\n",
              "      gap: 12px;\n",
              "    }\n",
              "\n",
              "    .colab-df-convert {\n",
              "      background-color: #E8F0FE;\n",
              "      border: none;\n",
              "      border-radius: 50%;\n",
              "      cursor: pointer;\n",
              "      display: none;\n",
              "      fill: #1967D2;\n",
              "      height: 32px;\n",
              "      padding: 0 0 0 0;\n",
              "      width: 32px;\n",
              "    }\n",
              "\n",
              "    .colab-df-convert:hover {\n",
              "      background-color: #E2EBFA;\n",
              "      box-shadow: 0px 1px 2px rgba(60, 64, 67, 0.3), 0px 1px 3px 1px rgba(60, 64, 67, 0.15);\n",
              "      fill: #174EA6;\n",
              "    }\n",
              "\n",
              "    [theme=dark] .colab-df-convert {\n",
              "      background-color: #3B4455;\n",
              "      fill: #D2E3FC;\n",
              "    }\n",
              "\n",
              "    [theme=dark] .colab-df-convert:hover {\n",
              "      background-color: #434B5C;\n",
              "      box-shadow: 0px 1px 3px 1px rgba(0, 0, 0, 0.15);\n",
              "      filter: drop-shadow(0px 1px 2px rgba(0, 0, 0, 0.3));\n",
              "      fill: #FFFFFF;\n",
              "    }\n",
              "  </style>\n",
              "\n",
              "      <script>\n",
              "        const buttonEl =\n",
              "          document.querySelector('#df-2f55e0fc-b372-45b0-ac6f-fdd7d3fc7ac5 button.colab-df-convert');\n",
              "        buttonEl.style.display =\n",
              "          google.colab.kernel.accessAllowed ? 'block' : 'none';\n",
              "\n",
              "        async function convertToInteractive(key) {\n",
              "          const element = document.querySelector('#df-2f55e0fc-b372-45b0-ac6f-fdd7d3fc7ac5');\n",
              "          const dataTable =\n",
              "            await google.colab.kernel.invokeFunction('convertToInteractive',\n",
              "                                                     [key], {});\n",
              "          if (!dataTable) return;\n",
              "\n",
              "          const docLinkHtml = 'Like what you see? Visit the ' +\n",
              "            '<a target=\"_blank\" href=https://colab.research.google.com/notebooks/data_table.ipynb>data table notebook</a>'\n",
              "            + ' to learn more about interactive tables.';\n",
              "          element.innerHTML = '';\n",
              "          dataTable['output_type'] = 'display_data';\n",
              "          await google.colab.output.renderOutput(dataTable, element);\n",
              "          const docLink = document.createElement('div');\n",
              "          docLink.innerHTML = docLinkHtml;\n",
              "          element.appendChild(docLink);\n",
              "        }\n",
              "      </script>\n",
              "    </div>\n",
              "  </div>\n",
              "  "
            ]
          },
          "metadata": {},
          "execution_count": 165
        }
      ]
    },
    {
      "cell_type": "code",
      "source": [
        "prep_score_var.plot.bar()"
      ],
      "metadata": {
        "colab": {
          "base_uri": "https://localhost:8080/",
          "height": 526
        },
        "id": "rAtJGUIEIIG3",
        "outputId": "d7789ec1-acd0-4174-a1da-407341f07c9c"
      },
      "execution_count": 167,
      "outputs": [
        {
          "output_type": "execute_result",
          "data": {
            "text/plain": [
              "<Axes: xlabel='test preparation course'>"
            ]
          },
          "metadata": {},
          "execution_count": 167
        },
        {
          "output_type": "display_data",
          "data": {
            "text/plain": [
              "<Figure size 640x480 with 1 Axes>"
            ],
            "image/png": "[encoded data removed]"
          },
          "metadata": {}
        }
      ]
    },
    {
      "cell_type": "markdown",
      "source": [
        "Students who have completed the test preparation course have less variation in both maths reading and writing scores"
      ],
      "metadata": {
        "id": "4oBEFMjOJiGj"
      }
    },
    {
      "cell_type": "markdown",
      "source": [
        "**5. The management needs your help to give bonus points to the top 25% of\n",
        "students based on their math score, so how will you help the management\n",
        "to achieve this.**"
      ],
      "metadata": {
        "id": "GSsfuAgyh6EW"
      }
    },
    {
      "cell_type": "code",
      "source": [
        "performance['math score'].quantile(0.75)"
      ],
      "metadata": {
        "colab": {
          "base_uri": "https://localhost:8080/"
        },
        "id": "AFc6h3kniPJ-",
        "outputId": "fab2c22f-d2f1-4fc6-df35-cddcc9883d90"
      },
      "execution_count": 168,
      "outputs": [
        {
          "output_type": "execute_result",
          "data": {
            "text/plain": [
              "77.0"
            ]
          },
          "metadata": {},
          "execution_count": 168
        }
      ]
    },
    {
      "cell_type": "code",
      "source": [
        "top25=performance[performance['math score']>=77].sort_values('math score',ascending=False)"
      ],
      "metadata": {
        "id": "GTuBvTLT6Zbv"
      },
      "execution_count": 169,
      "outputs": []
    },
    {
      "cell_type": "code",
      "source": [
        "top25"
      ],
      "metadata": {
        "colab": {
          "base_uri": "https://localhost:8080/",
          "height": 424
        },
        "id": "NR9KIR5E66wL",
        "outputId": "885d843a-0980-4425-b2f6-1001f632c39b"
      },
      "execution_count": 170,
      "outputs": [
        {
          "output_type": "execute_result",
          "data": {
            "text/plain": [
              "     gender race/ethnicity parental level of education         lunch  \\\n",
              "999    male        group E           bachelor's degree      standard   \n",
              "998    male        group E          associate's degree  free/reduced   \n",
              "997    male        group D                some college      standard   \n",
              "996    male        group A                some college      standard   \n",
              "517  female        group E          associate's degree      standard   \n",
              "..      ...            ...                         ...           ...   \n",
              "854    male        group D            some high school      standard   \n",
              "855    male        group E          associate's degree  free/reduced   \n",
              "856    male        group E            some high school      standard   \n",
              "415  female        group B             master's degree  free/reduced   \n",
              "414  female        group A                 high school  free/reduced   \n",
              "\n",
              "    test preparation course  math score  reading score  writing score  \n",
              "999               completed         100            100            100  \n",
              "998               completed         100            100             93  \n",
              "997               completed         100             97             99  \n",
              "996               completed         100             96             86  \n",
              "517                    none         100            100            100  \n",
              "..                      ...         ...            ...            ...  \n",
              "854               completed          77             68             69  \n",
              "855               completed          77             69             68  \n",
              "856               completed          77             76             77  \n",
              "415               completed          77             97             94  \n",
              "414               completed          77             88             85  \n",
              "\n",
              "[255 rows x 8 columns]"
            ],
            "text/html": [
              "\n",
              "  <div id=\"df-691d57e7-d609-4f2c-b2e2-1ed189ed48ce\">\n",
              "    <div class=\"colab-df-container\">\n",
              "      <div>\n",
              "<style scoped>\n",
              "    .dataframe tbody tr th:only-of-type {\n",
              "        vertical-align: middle;\n",
              "    }\n",
              "\n",
              "    .dataframe tbody tr th {\n",
              "        vertical-align: top;\n",
              "    }\n",
              "\n",
              "    .dataframe thead th {\n",
              "        text-align: right;\n",
              "    }\n",
              "</style>\n",
              "<table border=\"1\" class=\"dataframe\">\n",
              "  <thead>\n",
              "    <tr style=\"text-align: right;\">\n",
              "      <th></th>\n",
              "      <th>gender</th>\n",
              "      <th>race/ethnicity</th>\n",
              "      <th>parental level of education</th>\n",
              "      <th>lunch</th>\n",
              "      <th>test preparation course</th>\n",
              "      <th>math score</th>\n",
              "      <th>reading score</th>\n",
              "      <th>writing score</th>\n",
              "    </tr>\n",
              "  </thead>\n",
              "  <tbody>\n",
              "    <tr>\n",
              "      <th>999</th>\n",
              "      <td>male</td>\n",
              "      <td>group E</td>\n",
              "      <td>bachelor's degree</td>\n",
              "      <td>standard</td>\n",
              "      <td>completed</td>\n",
              "      <td>100</td>\n",
              "      <td>100</td>\n",
              "      <td>100</td>\n",
              "    </tr>\n",
              "    <tr>\n",
              "      <th>998</th>\n",
              "      <td>male</td>\n",
              "      <td>group E</td>\n",
              "      <td>associate's degree</td>\n",
              "      <td>free/reduced</td>\n",
              "      <td>completed</td>\n",
              "      <td>100</td>\n",
              "      <td>100</td>\n",
              "      <td>93</td>\n",
              "    </tr>\n",
              "    <tr>\n",
              "      <th>997</th>\n",
              "      <td>male</td>\n",
              "      <td>group D</td>\n",
              "      <td>some college</td>\n",
              "      <td>standard</td>\n",
              "      <td>completed</td>\n",
              "      <td>100</td>\n",
              "      <td>97</td>\n",
              "      <td>99</td>\n",
              "    </tr>\n",
              "    <tr>\n",
              "      <th>996</th>\n",
              "      <td>male</td>\n",
              "      <td>group A</td>\n",
              "      <td>some college</td>\n",
              "      <td>standard</td>\n",
              "      <td>completed</td>\n",
              "      <td>100</td>\n",
              "      <td>96</td>\n",
              "      <td>86</td>\n",
              "    </tr>\n",
              "    <tr>\n",
              "      <th>517</th>\n",
              "      <td>female</td>\n",
              "      <td>group E</td>\n",
              "      <td>associate's degree</td>\n",
              "      <td>standard</td>\n",
              "      <td>none</td>\n",
              "      <td>100</td>\n",
              "      <td>100</td>\n",
              "      <td>100</td>\n",
              "    </tr>\n",
              "    <tr>\n",
              "      <th>...</th>\n",
              "      <td>...</td>\n",
              "      <td>...</td>\n",
              "      <td>...</td>\n",
              "      <td>...</td>\n",
              "      <td>...</td>\n",
              "      <td>...</td>\n",
              "      <td>...</td>\n",
              "      <td>...</td>\n",
              "    </tr>\n",
              "    <tr>\n",
              "      <th>854</th>\n",
              "      <td>male</td>\n",
              "      <td>group D</td>\n",
              "      <td>some high school</td>\n",
              "      <td>standard</td>\n",
              "      <td>completed</td>\n",
              "      <td>77</td>\n",
              "      <td>68</td>\n",
              "      <td>69</td>\n",
              "    </tr>\n",
              "    <tr>\n",
              "      <th>855</th>\n",
              "      <td>male</td>\n",
              "      <td>group E</td>\n",
              "      <td>associate's degree</td>\n",
              "      <td>free/reduced</td>\n",
              "      <td>completed</td>\n",
              "      <td>77</td>\n",
              "      <td>69</td>\n",
              "      <td>68</td>\n",
              "    </tr>\n",
              "    <tr>\n",
              "      <th>856</th>\n",
              "      <td>male</td>\n",
              "      <td>group E</td>\n",
              "      <td>some high school</td>\n",
              "      <td>standard</td>\n",
              "      <td>completed</td>\n",
              "      <td>77</td>\n",
              "      <td>76</td>\n",
              "      <td>77</td>\n",
              "    </tr>\n",
              "    <tr>\n",
              "      <th>415</th>\n",
              "      <td>female</td>\n",
              "      <td>group B</td>\n",
              "      <td>master's degree</td>\n",
              "      <td>free/reduced</td>\n",
              "      <td>completed</td>\n",
              "      <td>77</td>\n",
              "      <td>97</td>\n",
              "      <td>94</td>\n",
              "    </tr>\n",
              "    <tr>\n",
              "      <th>414</th>\n",
              "      <td>female</td>\n",
              "      <td>group A</td>\n",
              "      <td>high school</td>\n",
              "      <td>free/reduced</td>\n",
              "      <td>completed</td>\n",
              "      <td>77</td>\n",
              "      <td>88</td>\n",
              "      <td>85</td>\n",
              "    </tr>\n",
              "  </tbody>\n",
              "</table>\n",
              "<p>255 rows × 8 columns</p>\n",
              "</div>\n",
              "      <button class=\"colab-df-convert\" onclick=\"convertToInteractive('df-691d57e7-d609-4f2c-b2e2-1ed189ed48ce')\"\n",
              "              title=\"Convert this dataframe to an interactive table.\"\n",
              "              style=\"display:none;\">\n",
              "        \n",
              "  <svg xmlns=\"http://www.w3.org/2000/svg\" height=\"24px\"viewBox=\"0 0 24 24\"\n",
              "       width=\"24px\">\n",
              "    <path d=\"M0 0h24v24H0V0z\" fill=\"none\"/>\n",
              "    <path d=\"M18.56 5.44l.94 2.06.94-2.06 2.06-.94-2.06-.94-.94-2.06-.94 2.06-2.06.94zm-11 1L8.5 8.5l.94-2.06 2.06-.94-2.06-.94L8.5 2.5l-.94 2.06-2.06.94zm10 10l.94 2.06.94-2.06 2.06-.94-2.06-.94-.94-2.06-.94 2.06-2.06.94z\"/><path d=\"M17.41 7.96l-1.37-1.37c-.4-.4-.92-.59-1.43-.59-.52 0-1.04.2-1.43.59L10.3 9.45l-7.72 7.72c-.78.78-.78 2.05 0 2.83L4 21.41c.39.39.9.59 1.41.59.51 0 1.02-.2 1.41-.59l7.78-7.78 2.81-2.81c.8-.78.8-2.07 0-2.86zM5.41 20L4 18.59l7.72-7.72 1.47 1.35L5.41 20z\"/>\n",
              "  </svg>\n",
              "      </button>\n",
              "      \n",
              "  <style>\n",
              "    .colab-df-container {\n",
              "      display:flex;\n",
              "      flex-wrap:wrap;\n",
              "      gap: 12px;\n",
              "    }\n",
              "\n",
              "    .colab-df-convert {\n",
              "      background-color: #E8F0FE;\n",
              "      border: none;\n",
              "      border-radius: 50%;\n",
              "      cursor: pointer;\n",
              "      display: none;\n",
              "      fill: #1967D2;\n",
              "      height: 32px;\n",
              "      padding: 0 0 0 0;\n",
              "      width: 32px;\n",
              "    }\n",
              "\n",
              "    .colab-df-convert:hover {\n",
              "      background-color: #E2EBFA;\n",
              "      box-shadow: 0px 1px 2px rgba(60, 64, 67, 0.3), 0px 1px 3px 1px rgba(60, 64, 67, 0.15);\n",
              "      fill: #174EA6;\n",
              "    }\n",
              "\n",
              "    [theme=dark] .colab-df-convert {\n",
              "      background-color: #3B4455;\n",
              "      fill: #D2E3FC;\n",
              "    }\n",
              "\n",
              "    [theme=dark] .colab-df-convert:hover {\n",
              "      background-color: #434B5C;\n",
              "      box-shadow: 0px 1px 3px 1px rgba(0, 0, 0, 0.15);\n",
              "      filter: drop-shadow(0px 1px 2px rgba(0, 0, 0, 0.3));\n",
              "      fill: #FFFFFF;\n",
              "    }\n",
              "  </style>\n",
              "\n",
              "      <script>\n",
              "        const buttonEl =\n",
              "          document.querySelector('#df-691d57e7-d609-4f2c-b2e2-1ed189ed48ce button.colab-df-convert');\n",
              "        buttonEl.style.display =\n",
              "          google.colab.kernel.accessAllowed ? 'block' : 'none';\n",
              "\n",
              "        async function convertToInteractive(key) {\n",
              "          const element = document.querySelector('#df-691d57e7-d609-4f2c-b2e2-1ed189ed48ce');\n",
              "          const dataTable =\n",
              "            await google.colab.kernel.invokeFunction('convertToInteractive',\n",
              "                                                     [key], {});\n",
              "          if (!dataTable) return;\n",
              "\n",
              "          const docLinkHtml = 'Like what you see? Visit the ' +\n",
              "            '<a target=\"_blank\" href=https://colab.research.google.com/notebooks/data_table.ipynb>data table notebook</a>'\n",
              "            + ' to learn more about interactive tables.';\n",
              "          element.innerHTML = '';\n",
              "          dataTable['output_type'] = 'display_data';\n",
              "          await google.colab.output.renderOutput(dataTable, element);\n",
              "          const docLink = document.createElement('div');\n",
              "          docLink.innerHTML = docLinkHtml;\n",
              "          element.appendChild(docLink);\n",
              "        }\n",
              "      </script>\n",
              "    </div>\n",
              "  </div>\n",
              "  "
            ]
          },
          "metadata": {},
          "execution_count": 170
        }
      ]
    },
    {
      "cell_type": "markdown",
      "source": [
        "**top25** is the list which shows the information regarding 25%of students who scores top score in maths, so that the management can give bonus points to the listed students."
      ],
      "metadata": {
        "id": "ih8ArEAp88fO"
      }
    }
  ]
}